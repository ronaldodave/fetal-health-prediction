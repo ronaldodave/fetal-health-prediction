{
 "cells": [
  {
   "cell_type": "markdown",
   "id": "86d67873",
   "metadata": {},
   "source": [
    "# Cardiotocography Classification"
   ]
  },
  {
   "cell_type": "markdown",
   "id": "29ce8556",
   "metadata": {
    "jupyter": {
     "source_hidden": true
    }
   },
   "source": [
    "## Exploratory Data Analysis"
   ]
  },
  {
   "cell_type": "code",
   "execution_count": 1,
   "id": "77804a2e",
   "metadata": {},
   "outputs": [],
   "source": [
    "import pandas as pd\n",
    "import numpy as np\n",
    "from sklearn import preprocessing\n",
    "from sklearn.model_selection import train_test_split\n",
    "from sklearn.feature_selection import SelectKBest\n",
    "from sklearn.feature_selection import f_classif, mutual_info_classif\n",
    "from matplotlib import pyplot\n",
    "from sklearn.model_selection import cross_val_score, RepeatedStratifiedKFold\n",
    "from sklearn.linear_model import LogisticRegression\n",
    "from sklearn.metrics import accuracy_score,recall_score,precision_score, f1_score, confusion_matrix\n",
    "from sklearn.pipeline import Pipeline"
   ]
  },
  {
   "cell_type": "code",
   "execution_count": 2,
   "id": "e7ff4d36",
   "metadata": {},
   "outputs": [],
   "source": [
    "file_path='CTG.xls'"
   ]
  },
  {
   "cell_type": "code",
   "execution_count": 3,
   "id": "b10dbf16",
   "metadata": {},
   "outputs": [],
   "source": [
    "ctg = pd.read_excel(file_path, sheet_name=1, skiprows=1)"
   ]
  },
  {
   "cell_type": "code",
   "execution_count": 4,
   "id": "124a7af6",
   "metadata": {
    "scrolled": true
   },
   "outputs": [
    {
     "data": {
      "text/html": [
       "<div>\n",
       "<style scoped>\n",
       "    .dataframe tbody tr th:only-of-type {\n",
       "        vertical-align: middle;\n",
       "    }\n",
       "\n",
       "    .dataframe tbody tr th {\n",
       "        vertical-align: top;\n",
       "    }\n",
       "\n",
       "    .dataframe thead th {\n",
       "        text-align: right;\n",
       "    }\n",
       "</style>\n",
       "<table border=\"1\" class=\"dataframe\">\n",
       "  <thead>\n",
       "    <tr style=\"text-align: right;\">\n",
       "      <th></th>\n",
       "      <th>b</th>\n",
       "      <th>e</th>\n",
       "      <th>AC</th>\n",
       "      <th>FM</th>\n",
       "      <th>UC</th>\n",
       "      <th>DL</th>\n",
       "      <th>DS</th>\n",
       "      <th>DP</th>\n",
       "      <th>DR</th>\n",
       "      <th>Unnamed: 9</th>\n",
       "      <th>...</th>\n",
       "      <th>E</th>\n",
       "      <th>AD</th>\n",
       "      <th>DE</th>\n",
       "      <th>LD</th>\n",
       "      <th>FS</th>\n",
       "      <th>SUSP</th>\n",
       "      <th>Unnamed: 42</th>\n",
       "      <th>CLASS</th>\n",
       "      <th>Unnamed: 44</th>\n",
       "      <th>NSP</th>\n",
       "    </tr>\n",
       "  </thead>\n",
       "  <tbody>\n",
       "    <tr>\n",
       "      <th>0</th>\n",
       "      <td>240.0</td>\n",
       "      <td>357.0</td>\n",
       "      <td>0.0</td>\n",
       "      <td>0.0</td>\n",
       "      <td>0.0</td>\n",
       "      <td>0.0</td>\n",
       "      <td>0.0</td>\n",
       "      <td>0.0</td>\n",
       "      <td>0.0</td>\n",
       "      <td>NaN</td>\n",
       "      <td>...</td>\n",
       "      <td>-1.0</td>\n",
       "      <td>-1.0</td>\n",
       "      <td>-1.0</td>\n",
       "      <td>-1.0</td>\n",
       "      <td>1.0</td>\n",
       "      <td>-1.0</td>\n",
       "      <td>NaN</td>\n",
       "      <td>9.0</td>\n",
       "      <td>NaN</td>\n",
       "      <td>2.0</td>\n",
       "    </tr>\n",
       "    <tr>\n",
       "      <th>1</th>\n",
       "      <td>5.0</td>\n",
       "      <td>632.0</td>\n",
       "      <td>4.0</td>\n",
       "      <td>0.0</td>\n",
       "      <td>4.0</td>\n",
       "      <td>2.0</td>\n",
       "      <td>0.0</td>\n",
       "      <td>0.0</td>\n",
       "      <td>0.0</td>\n",
       "      <td>NaN</td>\n",
       "      <td>...</td>\n",
       "      <td>-1.0</td>\n",
       "      <td>1.0</td>\n",
       "      <td>-1.0</td>\n",
       "      <td>-1.0</td>\n",
       "      <td>-1.0</td>\n",
       "      <td>-1.0</td>\n",
       "      <td>NaN</td>\n",
       "      <td>6.0</td>\n",
       "      <td>NaN</td>\n",
       "      <td>1.0</td>\n",
       "    </tr>\n",
       "    <tr>\n",
       "      <th>2</th>\n",
       "      <td>177.0</td>\n",
       "      <td>779.0</td>\n",
       "      <td>2.0</td>\n",
       "      <td>0.0</td>\n",
       "      <td>5.0</td>\n",
       "      <td>2.0</td>\n",
       "      <td>0.0</td>\n",
       "      <td>0.0</td>\n",
       "      <td>0.0</td>\n",
       "      <td>NaN</td>\n",
       "      <td>...</td>\n",
       "      <td>-1.0</td>\n",
       "      <td>1.0</td>\n",
       "      <td>-1.0</td>\n",
       "      <td>-1.0</td>\n",
       "      <td>-1.0</td>\n",
       "      <td>-1.0</td>\n",
       "      <td>NaN</td>\n",
       "      <td>6.0</td>\n",
       "      <td>NaN</td>\n",
       "      <td>1.0</td>\n",
       "    </tr>\n",
       "    <tr>\n",
       "      <th>3</th>\n",
       "      <td>411.0</td>\n",
       "      <td>1192.0</td>\n",
       "      <td>2.0</td>\n",
       "      <td>0.0</td>\n",
       "      <td>6.0</td>\n",
       "      <td>2.0</td>\n",
       "      <td>0.0</td>\n",
       "      <td>0.0</td>\n",
       "      <td>0.0</td>\n",
       "      <td>NaN</td>\n",
       "      <td>...</td>\n",
       "      <td>-1.0</td>\n",
       "      <td>1.0</td>\n",
       "      <td>-1.0</td>\n",
       "      <td>-1.0</td>\n",
       "      <td>-1.0</td>\n",
       "      <td>-1.0</td>\n",
       "      <td>NaN</td>\n",
       "      <td>6.0</td>\n",
       "      <td>NaN</td>\n",
       "      <td>1.0</td>\n",
       "    </tr>\n",
       "    <tr>\n",
       "      <th>4</th>\n",
       "      <td>533.0</td>\n",
       "      <td>1147.0</td>\n",
       "      <td>4.0</td>\n",
       "      <td>0.0</td>\n",
       "      <td>5.0</td>\n",
       "      <td>0.0</td>\n",
       "      <td>0.0</td>\n",
       "      <td>0.0</td>\n",
       "      <td>0.0</td>\n",
       "      <td>NaN</td>\n",
       "      <td>...</td>\n",
       "      <td>-1.0</td>\n",
       "      <td>-1.0</td>\n",
       "      <td>-1.0</td>\n",
       "      <td>-1.0</td>\n",
       "      <td>-1.0</td>\n",
       "      <td>-1.0</td>\n",
       "      <td>NaN</td>\n",
       "      <td>2.0</td>\n",
       "      <td>NaN</td>\n",
       "      <td>1.0</td>\n",
       "    </tr>\n",
       "  </tbody>\n",
       "</table>\n",
       "<p>5 rows × 46 columns</p>\n",
       "</div>"
      ],
      "text/plain": [
       "       b       e   AC   FM   UC   DL   DS   DP   DR  Unnamed: 9  ...    E  \\\n",
       "0  240.0   357.0  0.0  0.0  0.0  0.0  0.0  0.0  0.0         NaN  ... -1.0   \n",
       "1    5.0   632.0  4.0  0.0  4.0  2.0  0.0  0.0  0.0         NaN  ... -1.0   \n",
       "2  177.0   779.0  2.0  0.0  5.0  2.0  0.0  0.0  0.0         NaN  ... -1.0   \n",
       "3  411.0  1192.0  2.0  0.0  6.0  2.0  0.0  0.0  0.0         NaN  ... -1.0   \n",
       "4  533.0  1147.0  4.0  0.0  5.0  0.0  0.0  0.0  0.0         NaN  ... -1.0   \n",
       "\n",
       "    AD   DE   LD   FS  SUSP  Unnamed: 42  CLASS  Unnamed: 44  NSP  \n",
       "0 -1.0 -1.0 -1.0  1.0  -1.0          NaN    9.0          NaN  2.0  \n",
       "1  1.0 -1.0 -1.0 -1.0  -1.0          NaN    6.0          NaN  1.0  \n",
       "2  1.0 -1.0 -1.0 -1.0  -1.0          NaN    6.0          NaN  1.0  \n",
       "3  1.0 -1.0 -1.0 -1.0  -1.0          NaN    6.0          NaN  1.0  \n",
       "4 -1.0 -1.0 -1.0 -1.0  -1.0          NaN    2.0          NaN  1.0  \n",
       "\n",
       "[5 rows x 46 columns]"
      ]
     },
     "execution_count": 4,
     "metadata": {},
     "output_type": "execute_result"
    }
   ],
   "source": [
    "ctg.head()"
   ]
  },
  {
   "cell_type": "code",
   "execution_count": 5,
   "id": "bdcc715d",
   "metadata": {},
   "outputs": [
    {
     "name": "stdout",
     "output_type": "stream",
     "text": [
      "<class 'pandas.core.frame.DataFrame'>\n",
      "RangeIndex: 2129 entries, 0 to 2128\n",
      "Data columns (total 46 columns):\n",
      " #   Column       Non-Null Count  Dtype  \n",
      "---  ------       --------------  -----  \n",
      " 0   b            2126 non-null   float64\n",
      " 1   e            2126 non-null   float64\n",
      " 2   AC           2126 non-null   float64\n",
      " 3   FM           2127 non-null   float64\n",
      " 4   UC           2127 non-null   float64\n",
      " 5   DL           2128 non-null   float64\n",
      " 6   DS           2128 non-null   float64\n",
      " 7   DP           2128 non-null   float64\n",
      " 8   DR           2128 non-null   float64\n",
      " 9   Unnamed: 9   0 non-null      float64\n",
      " 10  LB           2126 non-null   float64\n",
      " 11  AC.1         2126 non-null   float64\n",
      " 12  FM.1         2127 non-null   float64\n",
      " 13  UC.1         2127 non-null   float64\n",
      " 14  DL.1         2128 non-null   float64\n",
      " 15  DS.1         2128 non-null   float64\n",
      " 16  DP.1         2128 non-null   float64\n",
      " 17  ASTV         2127 non-null   float64\n",
      " 18  MSTV         2127 non-null   float64\n",
      " 19  ALTV         2127 non-null   float64\n",
      " 20  MLTV         2127 non-null   float64\n",
      " 21  Width        2126 non-null   float64\n",
      " 22  Min          2126 non-null   float64\n",
      " 23  Max          2126 non-null   float64\n",
      " 24  Nmax         2126 non-null   float64\n",
      " 25  Nzeros       2126 non-null   float64\n",
      " 26  Mode         2126 non-null   float64\n",
      " 27  Mean         2126 non-null   float64\n",
      " 28  Median       2126 non-null   float64\n",
      " 29  Variance     2126 non-null   float64\n",
      " 30  Tendency     2126 non-null   float64\n",
      " 31  Unnamed: 31  0 non-null      float64\n",
      " 32  A            2127 non-null   float64\n",
      " 33  B            2127 non-null   float64\n",
      " 34  C            2127 non-null   float64\n",
      " 35  D            2127 non-null   float64\n",
      " 36  E            2127 non-null   float64\n",
      " 37  AD           2127 non-null   float64\n",
      " 38  DE           2127 non-null   float64\n",
      " 39  LD           2127 non-null   float64\n",
      " 40  FS           2127 non-null   float64\n",
      " 41  SUSP         2127 non-null   float64\n",
      " 42  Unnamed: 42  0 non-null      float64\n",
      " 43  CLASS        2126 non-null   float64\n",
      " 44  Unnamed: 44  0 non-null      float64\n",
      " 45  NSP          2126 non-null   float64\n",
      "dtypes: float64(46)\n",
      "memory usage: 765.2 KB\n"
     ]
    }
   ],
   "source": [
    "ctg.info()"
   ]
  },
  {
   "cell_type": "code",
   "execution_count": 6,
   "id": "03a3f776",
   "metadata": {},
   "outputs": [],
   "source": [
    "ctg.drop(ctg.iloc[:,:10], inplace = True, axis = 1) "
   ]
  },
  {
   "cell_type": "code",
   "execution_count": 7,
   "id": "637be362",
   "metadata": {},
   "outputs": [
    {
     "name": "stdout",
     "output_type": "stream",
     "text": [
      "<class 'pandas.core.frame.DataFrame'>\n",
      "RangeIndex: 2129 entries, 0 to 2128\n",
      "Data columns (total 36 columns):\n",
      " #   Column       Non-Null Count  Dtype  \n",
      "---  ------       --------------  -----  \n",
      " 0   LB           2126 non-null   float64\n",
      " 1   AC.1         2126 non-null   float64\n",
      " 2   FM.1         2127 non-null   float64\n",
      " 3   UC.1         2127 non-null   float64\n",
      " 4   DL.1         2128 non-null   float64\n",
      " 5   DS.1         2128 non-null   float64\n",
      " 6   DP.1         2128 non-null   float64\n",
      " 7   ASTV         2127 non-null   float64\n",
      " 8   MSTV         2127 non-null   float64\n",
      " 9   ALTV         2127 non-null   float64\n",
      " 10  MLTV         2127 non-null   float64\n",
      " 11  Width        2126 non-null   float64\n",
      " 12  Min          2126 non-null   float64\n",
      " 13  Max          2126 non-null   float64\n",
      " 14  Nmax         2126 non-null   float64\n",
      " 15  Nzeros       2126 non-null   float64\n",
      " 16  Mode         2126 non-null   float64\n",
      " 17  Mean         2126 non-null   float64\n",
      " 18  Median       2126 non-null   float64\n",
      " 19  Variance     2126 non-null   float64\n",
      " 20  Tendency     2126 non-null   float64\n",
      " 21  Unnamed: 31  0 non-null      float64\n",
      " 22  A            2127 non-null   float64\n",
      " 23  B            2127 non-null   float64\n",
      " 24  C            2127 non-null   float64\n",
      " 25  D            2127 non-null   float64\n",
      " 26  E            2127 non-null   float64\n",
      " 27  AD           2127 non-null   float64\n",
      " 28  DE           2127 non-null   float64\n",
      " 29  LD           2127 non-null   float64\n",
      " 30  FS           2127 non-null   float64\n",
      " 31  SUSP         2127 non-null   float64\n",
      " 32  Unnamed: 42  0 non-null      float64\n",
      " 33  CLASS        2126 non-null   float64\n",
      " 34  Unnamed: 44  0 non-null      float64\n",
      " 35  NSP          2126 non-null   float64\n",
      "dtypes: float64(36)\n",
      "memory usage: 598.9 KB\n"
     ]
    }
   ],
   "source": [
    "ctg.info()"
   ]
  },
  {
   "cell_type": "code",
   "execution_count": 8,
   "id": "f501a01b",
   "metadata": {},
   "outputs": [],
   "source": [
    "ctg.drop(ctg.iloc[:, 21:33], inplace = True, axis = 1)\n",
    "ctg = ctg.drop(['Unnamed: 44', 'CLASS'], axis = 1)"
   ]
  },
  {
   "cell_type": "code",
   "execution_count": 9,
   "id": "346773d7",
   "metadata": {},
   "outputs": [
    {
     "name": "stdout",
     "output_type": "stream",
     "text": [
      "<class 'pandas.core.frame.DataFrame'>\n",
      "RangeIndex: 2129 entries, 0 to 2128\n",
      "Data columns (total 22 columns):\n",
      " #   Column    Non-Null Count  Dtype  \n",
      "---  ------    --------------  -----  \n",
      " 0   LB        2126 non-null   float64\n",
      " 1   AC.1      2126 non-null   float64\n",
      " 2   FM.1      2127 non-null   float64\n",
      " 3   UC.1      2127 non-null   float64\n",
      " 4   DL.1      2128 non-null   float64\n",
      " 5   DS.1      2128 non-null   float64\n",
      " 6   DP.1      2128 non-null   float64\n",
      " 7   ASTV      2127 non-null   float64\n",
      " 8   MSTV      2127 non-null   float64\n",
      " 9   ALTV      2127 non-null   float64\n",
      " 10  MLTV      2127 non-null   float64\n",
      " 11  Width     2126 non-null   float64\n",
      " 12  Min       2126 non-null   float64\n",
      " 13  Max       2126 non-null   float64\n",
      " 14  Nmax      2126 non-null   float64\n",
      " 15  Nzeros    2126 non-null   float64\n",
      " 16  Mode      2126 non-null   float64\n",
      " 17  Mean      2126 non-null   float64\n",
      " 18  Median    2126 non-null   float64\n",
      " 19  Variance  2126 non-null   float64\n",
      " 20  Tendency  2126 non-null   float64\n",
      " 21  NSP       2126 non-null   float64\n",
      "dtypes: float64(22)\n",
      "memory usage: 366.0 KB\n"
     ]
    }
   ],
   "source": [
    "ctg.info()"
   ]
  },
  {
   "cell_type": "code",
   "execution_count": 10,
   "id": "3c0c3abe",
   "metadata": {},
   "outputs": [
    {
     "data": {
      "text/plain": [
       "LB          3\n",
       "AC.1        3\n",
       "FM.1        2\n",
       "UC.1        2\n",
       "DL.1        1\n",
       "DS.1        1\n",
       "DP.1        1\n",
       "ASTV        2\n",
       "MSTV        2\n",
       "ALTV        2\n",
       "MLTV        2\n",
       "Width       3\n",
       "Min         3\n",
       "Max         3\n",
       "Nmax        3\n",
       "Nzeros      3\n",
       "Mode        3\n",
       "Mean        3\n",
       "Median      3\n",
       "Variance    3\n",
       "Tendency    3\n",
       "NSP         3\n",
       "dtype: int64"
      ]
     },
     "execution_count": 10,
     "metadata": {},
     "output_type": "execute_result"
    }
   ],
   "source": [
    "ctg.isnull().sum()"
   ]
  },
  {
   "cell_type": "code",
   "execution_count": 11,
   "id": "58aa982d",
   "metadata": {},
   "outputs": [],
   "source": [
    "ctg = ctg.dropna()"
   ]
  },
  {
   "cell_type": "code",
   "execution_count": 12,
   "id": "3c6ce6a9",
   "metadata": {},
   "outputs": [
    {
     "name": "stdout",
     "output_type": "stream",
     "text": [
      "<class 'pandas.core.frame.DataFrame'>\n",
      "Int64Index: 2126 entries, 0 to 2125\n",
      "Data columns (total 22 columns):\n",
      " #   Column    Non-Null Count  Dtype  \n",
      "---  ------    --------------  -----  \n",
      " 0   LB        2126 non-null   float64\n",
      " 1   AC.1      2126 non-null   float64\n",
      " 2   FM.1      2126 non-null   float64\n",
      " 3   UC.1      2126 non-null   float64\n",
      " 4   DL.1      2126 non-null   float64\n",
      " 5   DS.1      2126 non-null   float64\n",
      " 6   DP.1      2126 non-null   float64\n",
      " 7   ASTV      2126 non-null   float64\n",
      " 8   MSTV      2126 non-null   float64\n",
      " 9   ALTV      2126 non-null   float64\n",
      " 10  MLTV      2126 non-null   float64\n",
      " 11  Width     2126 non-null   float64\n",
      " 12  Min       2126 non-null   float64\n",
      " 13  Max       2126 non-null   float64\n",
      " 14  Nmax      2126 non-null   float64\n",
      " 15  Nzeros    2126 non-null   float64\n",
      " 16  Mode      2126 non-null   float64\n",
      " 17  Mean      2126 non-null   float64\n",
      " 18  Median    2126 non-null   float64\n",
      " 19  Variance  2126 non-null   float64\n",
      " 20  Tendency  2126 non-null   float64\n",
      " 21  NSP       2126 non-null   float64\n",
      "dtypes: float64(22)\n",
      "memory usage: 382.0 KB\n"
     ]
    }
   ],
   "source": [
    "ctg.info()"
   ]
  },
  {
   "cell_type": "code",
   "execution_count": 13,
   "id": "7aa74a85",
   "metadata": {},
   "outputs": [
    {
     "data": {
      "text/html": [
       "<div>\n",
       "<style scoped>\n",
       "    .dataframe tbody tr th:only-of-type {\n",
       "        vertical-align: middle;\n",
       "    }\n",
       "\n",
       "    .dataframe tbody tr th {\n",
       "        vertical-align: top;\n",
       "    }\n",
       "\n",
       "    .dataframe thead th {\n",
       "        text-align: right;\n",
       "    }\n",
       "</style>\n",
       "<table border=\"1\" class=\"dataframe\">\n",
       "  <thead>\n",
       "    <tr style=\"text-align: right;\">\n",
       "      <th></th>\n",
       "      <th>count</th>\n",
       "      <th>mean</th>\n",
       "      <th>std</th>\n",
       "      <th>min</th>\n",
       "      <th>25%</th>\n",
       "      <th>50%</th>\n",
       "      <th>75%</th>\n",
       "      <th>max</th>\n",
       "    </tr>\n",
       "  </thead>\n",
       "  <tbody>\n",
       "    <tr>\n",
       "      <th>LB</th>\n",
       "      <td>2126.0</td>\n",
       "      <td>133.303857</td>\n",
       "      <td>9.840844</td>\n",
       "      <td>106.0</td>\n",
       "      <td>126.000000</td>\n",
       "      <td>133.000000</td>\n",
       "      <td>140.000000</td>\n",
       "      <td>160.000000</td>\n",
       "    </tr>\n",
       "    <tr>\n",
       "      <th>AC.1</th>\n",
       "      <td>2126.0</td>\n",
       "      <td>0.003170</td>\n",
       "      <td>0.003860</td>\n",
       "      <td>0.0</td>\n",
       "      <td>0.000000</td>\n",
       "      <td>0.001630</td>\n",
       "      <td>0.005631</td>\n",
       "      <td>0.019284</td>\n",
       "    </tr>\n",
       "    <tr>\n",
       "      <th>FM.1</th>\n",
       "      <td>2126.0</td>\n",
       "      <td>0.009474</td>\n",
       "      <td>0.046670</td>\n",
       "      <td>0.0</td>\n",
       "      <td>0.000000</td>\n",
       "      <td>0.000000</td>\n",
       "      <td>0.002512</td>\n",
       "      <td>0.480634</td>\n",
       "    </tr>\n",
       "    <tr>\n",
       "      <th>UC.1</th>\n",
       "      <td>2126.0</td>\n",
       "      <td>0.004357</td>\n",
       "      <td>0.002940</td>\n",
       "      <td>0.0</td>\n",
       "      <td>0.001876</td>\n",
       "      <td>0.004482</td>\n",
       "      <td>0.006525</td>\n",
       "      <td>0.014925</td>\n",
       "    </tr>\n",
       "    <tr>\n",
       "      <th>DL.1</th>\n",
       "      <td>2126.0</td>\n",
       "      <td>0.001885</td>\n",
       "      <td>0.002962</td>\n",
       "      <td>0.0</td>\n",
       "      <td>0.000000</td>\n",
       "      <td>0.000000</td>\n",
       "      <td>0.003264</td>\n",
       "      <td>0.015385</td>\n",
       "    </tr>\n",
       "    <tr>\n",
       "      <th>DS.1</th>\n",
       "      <td>2126.0</td>\n",
       "      <td>0.000004</td>\n",
       "      <td>0.000063</td>\n",
       "      <td>0.0</td>\n",
       "      <td>0.000000</td>\n",
       "      <td>0.000000</td>\n",
       "      <td>0.000000</td>\n",
       "      <td>0.001353</td>\n",
       "    </tr>\n",
       "    <tr>\n",
       "      <th>DP.1</th>\n",
       "      <td>2126.0</td>\n",
       "      <td>0.000157</td>\n",
       "      <td>0.000580</td>\n",
       "      <td>0.0</td>\n",
       "      <td>0.000000</td>\n",
       "      <td>0.000000</td>\n",
       "      <td>0.000000</td>\n",
       "      <td>0.005348</td>\n",
       "    </tr>\n",
       "    <tr>\n",
       "      <th>ASTV</th>\n",
       "      <td>2126.0</td>\n",
       "      <td>46.990122</td>\n",
       "      <td>17.192814</td>\n",
       "      <td>12.0</td>\n",
       "      <td>32.000000</td>\n",
       "      <td>49.000000</td>\n",
       "      <td>61.000000</td>\n",
       "      <td>87.000000</td>\n",
       "    </tr>\n",
       "    <tr>\n",
       "      <th>MSTV</th>\n",
       "      <td>2126.0</td>\n",
       "      <td>1.332785</td>\n",
       "      <td>0.883241</td>\n",
       "      <td>0.2</td>\n",
       "      <td>0.700000</td>\n",
       "      <td>1.200000</td>\n",
       "      <td>1.700000</td>\n",
       "      <td>7.000000</td>\n",
       "    </tr>\n",
       "    <tr>\n",
       "      <th>ALTV</th>\n",
       "      <td>2126.0</td>\n",
       "      <td>9.846660</td>\n",
       "      <td>18.396880</td>\n",
       "      <td>0.0</td>\n",
       "      <td>0.000000</td>\n",
       "      <td>0.000000</td>\n",
       "      <td>11.000000</td>\n",
       "      <td>91.000000</td>\n",
       "    </tr>\n",
       "    <tr>\n",
       "      <th>MLTV</th>\n",
       "      <td>2126.0</td>\n",
       "      <td>8.187629</td>\n",
       "      <td>5.628247</td>\n",
       "      <td>0.0</td>\n",
       "      <td>4.600000</td>\n",
       "      <td>7.400000</td>\n",
       "      <td>10.800000</td>\n",
       "      <td>50.700000</td>\n",
       "    </tr>\n",
       "    <tr>\n",
       "      <th>Width</th>\n",
       "      <td>2126.0</td>\n",
       "      <td>70.445908</td>\n",
       "      <td>38.955693</td>\n",
       "      <td>3.0</td>\n",
       "      <td>37.000000</td>\n",
       "      <td>67.500000</td>\n",
       "      <td>100.000000</td>\n",
       "      <td>180.000000</td>\n",
       "    </tr>\n",
       "    <tr>\n",
       "      <th>Min</th>\n",
       "      <td>2126.0</td>\n",
       "      <td>93.579492</td>\n",
       "      <td>29.560212</td>\n",
       "      <td>50.0</td>\n",
       "      <td>67.000000</td>\n",
       "      <td>93.000000</td>\n",
       "      <td>120.000000</td>\n",
       "      <td>159.000000</td>\n",
       "    </tr>\n",
       "    <tr>\n",
       "      <th>Max</th>\n",
       "      <td>2126.0</td>\n",
       "      <td>164.025400</td>\n",
       "      <td>17.944183</td>\n",
       "      <td>122.0</td>\n",
       "      <td>152.000000</td>\n",
       "      <td>162.000000</td>\n",
       "      <td>174.000000</td>\n",
       "      <td>238.000000</td>\n",
       "    </tr>\n",
       "    <tr>\n",
       "      <th>Nmax</th>\n",
       "      <td>2126.0</td>\n",
       "      <td>4.068203</td>\n",
       "      <td>2.949386</td>\n",
       "      <td>0.0</td>\n",
       "      <td>2.000000</td>\n",
       "      <td>3.000000</td>\n",
       "      <td>6.000000</td>\n",
       "      <td>18.000000</td>\n",
       "    </tr>\n",
       "    <tr>\n",
       "      <th>Nzeros</th>\n",
       "      <td>2126.0</td>\n",
       "      <td>0.323612</td>\n",
       "      <td>0.706059</td>\n",
       "      <td>0.0</td>\n",
       "      <td>0.000000</td>\n",
       "      <td>0.000000</td>\n",
       "      <td>0.000000</td>\n",
       "      <td>10.000000</td>\n",
       "    </tr>\n",
       "    <tr>\n",
       "      <th>Mode</th>\n",
       "      <td>2126.0</td>\n",
       "      <td>137.452023</td>\n",
       "      <td>16.381289</td>\n",
       "      <td>60.0</td>\n",
       "      <td>129.000000</td>\n",
       "      <td>139.000000</td>\n",
       "      <td>148.000000</td>\n",
       "      <td>187.000000</td>\n",
       "    </tr>\n",
       "    <tr>\n",
       "      <th>Mean</th>\n",
       "      <td>2126.0</td>\n",
       "      <td>134.610536</td>\n",
       "      <td>15.593596</td>\n",
       "      <td>73.0</td>\n",
       "      <td>125.000000</td>\n",
       "      <td>136.000000</td>\n",
       "      <td>145.000000</td>\n",
       "      <td>182.000000</td>\n",
       "    </tr>\n",
       "    <tr>\n",
       "      <th>Median</th>\n",
       "      <td>2126.0</td>\n",
       "      <td>138.090310</td>\n",
       "      <td>14.466589</td>\n",
       "      <td>77.0</td>\n",
       "      <td>129.000000</td>\n",
       "      <td>139.000000</td>\n",
       "      <td>148.000000</td>\n",
       "      <td>186.000000</td>\n",
       "    </tr>\n",
       "    <tr>\n",
       "      <th>Variance</th>\n",
       "      <td>2126.0</td>\n",
       "      <td>18.808090</td>\n",
       "      <td>28.977636</td>\n",
       "      <td>0.0</td>\n",
       "      <td>2.000000</td>\n",
       "      <td>7.000000</td>\n",
       "      <td>24.000000</td>\n",
       "      <td>269.000000</td>\n",
       "    </tr>\n",
       "    <tr>\n",
       "      <th>Tendency</th>\n",
       "      <td>2126.0</td>\n",
       "      <td>0.320320</td>\n",
       "      <td>0.610829</td>\n",
       "      <td>-1.0</td>\n",
       "      <td>0.000000</td>\n",
       "      <td>0.000000</td>\n",
       "      <td>1.000000</td>\n",
       "      <td>1.000000</td>\n",
       "    </tr>\n",
       "    <tr>\n",
       "      <th>NSP</th>\n",
       "      <td>2126.0</td>\n",
       "      <td>1.304327</td>\n",
       "      <td>0.614377</td>\n",
       "      <td>1.0</td>\n",
       "      <td>1.000000</td>\n",
       "      <td>1.000000</td>\n",
       "      <td>1.000000</td>\n",
       "      <td>3.000000</td>\n",
       "    </tr>\n",
       "  </tbody>\n",
       "</table>\n",
       "</div>"
      ],
      "text/plain": [
       "           count        mean        std    min         25%         50%  \\\n",
       "LB        2126.0  133.303857   9.840844  106.0  126.000000  133.000000   \n",
       "AC.1      2126.0    0.003170   0.003860    0.0    0.000000    0.001630   \n",
       "FM.1      2126.0    0.009474   0.046670    0.0    0.000000    0.000000   \n",
       "UC.1      2126.0    0.004357   0.002940    0.0    0.001876    0.004482   \n",
       "DL.1      2126.0    0.001885   0.002962    0.0    0.000000    0.000000   \n",
       "DS.1      2126.0    0.000004   0.000063    0.0    0.000000    0.000000   \n",
       "DP.1      2126.0    0.000157   0.000580    0.0    0.000000    0.000000   \n",
       "ASTV      2126.0   46.990122  17.192814   12.0   32.000000   49.000000   \n",
       "MSTV      2126.0    1.332785   0.883241    0.2    0.700000    1.200000   \n",
       "ALTV      2126.0    9.846660  18.396880    0.0    0.000000    0.000000   \n",
       "MLTV      2126.0    8.187629   5.628247    0.0    4.600000    7.400000   \n",
       "Width     2126.0   70.445908  38.955693    3.0   37.000000   67.500000   \n",
       "Min       2126.0   93.579492  29.560212   50.0   67.000000   93.000000   \n",
       "Max       2126.0  164.025400  17.944183  122.0  152.000000  162.000000   \n",
       "Nmax      2126.0    4.068203   2.949386    0.0    2.000000    3.000000   \n",
       "Nzeros    2126.0    0.323612   0.706059    0.0    0.000000    0.000000   \n",
       "Mode      2126.0  137.452023  16.381289   60.0  129.000000  139.000000   \n",
       "Mean      2126.0  134.610536  15.593596   73.0  125.000000  136.000000   \n",
       "Median    2126.0  138.090310  14.466589   77.0  129.000000  139.000000   \n",
       "Variance  2126.0   18.808090  28.977636    0.0    2.000000    7.000000   \n",
       "Tendency  2126.0    0.320320   0.610829   -1.0    0.000000    0.000000   \n",
       "NSP       2126.0    1.304327   0.614377    1.0    1.000000    1.000000   \n",
       "\n",
       "                 75%         max  \n",
       "LB        140.000000  160.000000  \n",
       "AC.1        0.005631    0.019284  \n",
       "FM.1        0.002512    0.480634  \n",
       "UC.1        0.006525    0.014925  \n",
       "DL.1        0.003264    0.015385  \n",
       "DS.1        0.000000    0.001353  \n",
       "DP.1        0.000000    0.005348  \n",
       "ASTV       61.000000   87.000000  \n",
       "MSTV        1.700000    7.000000  \n",
       "ALTV       11.000000   91.000000  \n",
       "MLTV       10.800000   50.700000  \n",
       "Width     100.000000  180.000000  \n",
       "Min       120.000000  159.000000  \n",
       "Max       174.000000  238.000000  \n",
       "Nmax        6.000000   18.000000  \n",
       "Nzeros      0.000000   10.000000  \n",
       "Mode      148.000000  187.000000  \n",
       "Mean      145.000000  182.000000  \n",
       "Median    148.000000  186.000000  \n",
       "Variance   24.000000  269.000000  \n",
       "Tendency    1.000000    1.000000  \n",
       "NSP         1.000000    3.000000  "
      ]
     },
     "execution_count": 13,
     "metadata": {},
     "output_type": "execute_result"
    }
   ],
   "source": [
    "ctg.describe().T"
   ]
  },
  {
   "cell_type": "code",
   "execution_count": 14,
   "id": "acac355e",
   "metadata": {},
   "outputs": [],
   "source": [
    "import matplotlib as mpl\n",
    "import matplotlib.pyplot as plt\n",
    "import seaborn as sns"
   ]
  },
  {
   "cell_type": "code",
   "execution_count": 15,
   "id": "ca877594",
   "metadata": {},
   "outputs": [
    {
     "data": {
      "text/plain": [
       "<AxesSubplot:xlabel='NSP', ylabel='count'>"
      ]
     },
     "execution_count": 15,
     "metadata": {},
     "output_type": "execute_result"
    },
    {
     "data": {
      "image/png": "[encoded data removed]",
      "text/plain": [
       "<Figure size 432x288 with 1 Axes>"
      ]
     },
     "metadata": {
      "needs_background": "light"
     },
     "output_type": "display_data"
    }
   ],
   "source": [
    "sns.countplot(x='NSP', data=ctg)"
   ]
  },
  {
   "cell_type": "code",
   "execution_count": 16,
   "id": "620b270a",
   "metadata": {},
   "outputs": [
    {
     "name": "stderr",
     "output_type": "stream",
     "text": [
      "<ipython-input-16-3f9b7debed0c>:3: UserWarning: To output multiple subplots, the figure containing the passed axes is being cleared\n",
      "  ctg_feature.hist(ax=ax)\n"
     ]
    },
    {
     "data": {
      "image/png": "[encoded data removed]",
      "text/plain": [
       "<Figure size 1080x1080 with 25 Axes>"
      ]
     },
     "metadata": {
      "needs_background": "light"
     },
     "output_type": "display_data"
    }
   ],
   "source": [
    "ctg_feature=ctg.drop(columns='NSP')\n",
    "fig, ax = plt.subplots(1, 1, figsize=(15, 15))\n",
    "ctg_feature.hist(ax=ax)\n",
    "plt.show()"
   ]
  },
  {
   "cell_type": "code",
   "execution_count": 17,
   "id": "0230e8c5",
   "metadata": {},
   "outputs": [
    {
     "data": {
      "image/png": "[encoded data removed]",
      "text/plain": [
       "<Figure size 1080x720 with 1 Axes>"
      ]
     },
     "metadata": {
      "needs_background": "light"
     },
     "output_type": "display_data"
    }
   ],
   "source": [
    "fig, ax = plt.subplots(1, 1, figsize=(15, 10))\n",
    "# scaling feature\n",
    "ctg_feature_scale = pd.DataFrame(preprocessing.scale(ctg_feature), columns=ctg_feature.columns)\n",
    "# show box plot\n",
    "ctg_feature_scale.boxplot(ax=ax)\n",
    "plt.show()"
   ]
  },
  {
   "cell_type": "code",
   "execution_count": 18,
   "id": "36fd0c3a",
   "metadata": {},
   "outputs": [
    {
     "data": {
      "image/png": "[encoded data removed]",
      "text/plain": [
       "<Figure size 1440x1152 with 2 Axes>"
      ]
     },
     "metadata": {
      "needs_background": "light"
     },
     "output_type": "display_data"
    }
   ],
   "source": [
    "corr = ctg_feature.corr()\n",
    "f, ax = plt.subplots(figsize=(20,16))\n",
    "sns.heatmap(corr, annot=True, linewidths=.5, fmt= '.1f',ax=ax);"
   ]
  },
  {
   "cell_type": "markdown",
   "id": "b8236f6b",
   "metadata": {},
   "source": [
    "## Data Preprocessing"
   ]
  },
  {
   "cell_type": "markdown",
   "id": "97637dce",
   "metadata": {},
   "source": [
    "### Normalization"
   ]
  },
  {
   "cell_type": "code",
   "execution_count": 19,
   "id": "7e9290ac",
   "metadata": {},
   "outputs": [],
   "source": [
    "from sklearn import preprocessing\n",
    "ctg_num=ctg_feature.drop(['Tendency'], axis = 1)\n",
    "feature_numpy = ctg_num.values #returns a numpy array\n",
    "scaler = preprocessing.RobustScaler()\n",
    "feature_norm = scaler.fit_transform(feature_numpy)\n",
    "feature_norm = pd.DataFrame(feature_norm)"
   ]
  },
  {
   "cell_type": "code",
   "execution_count": 20,
   "id": "e086c9ed",
   "metadata": {},
   "outputs": [],
   "source": [
    "header=['LB','AC.1','FM.1','UC.1','DL.1','DS.1','DP.1','ASTV','MSTV','ALTV','MLTV','Width','Min','Max', 'Nmax','Nzeros','Mode','Mean','Median','Variance']"
   ]
  },
  {
   "cell_type": "code",
   "execution_count": 21,
   "id": "b0c065ed",
   "metadata": {},
   "outputs": [],
   "source": [
    "feature_norm.columns = header"
   ]
  },
  {
   "cell_type": "code",
   "execution_count": 22,
   "id": "52495904",
   "metadata": {},
   "outputs": [
    {
     "data": {
      "text/html": [
       "<div>\n",
       "<style scoped>\n",
       "    .dataframe tbody tr th:only-of-type {\n",
       "        vertical-align: middle;\n",
       "    }\n",
       "\n",
       "    .dataframe tbody tr th {\n",
       "        vertical-align: top;\n",
       "    }\n",
       "\n",
       "    .dataframe thead th {\n",
       "        text-align: right;\n",
       "    }\n",
       "</style>\n",
       "<table border=\"1\" class=\"dataframe\">\n",
       "  <thead>\n",
       "    <tr style=\"text-align: right;\">\n",
       "      <th></th>\n",
       "      <th>LB</th>\n",
       "      <th>AC.1</th>\n",
       "      <th>FM.1</th>\n",
       "      <th>UC.1</th>\n",
       "      <th>DL.1</th>\n",
       "      <th>DS.1</th>\n",
       "      <th>DP.1</th>\n",
       "      <th>ASTV</th>\n",
       "      <th>MSTV</th>\n",
       "      <th>ALTV</th>\n",
       "      <th>MLTV</th>\n",
       "      <th>Width</th>\n",
       "      <th>Min</th>\n",
       "      <th>Max</th>\n",
       "      <th>Nmax</th>\n",
       "      <th>Nzeros</th>\n",
       "      <th>Mode</th>\n",
       "      <th>Mean</th>\n",
       "      <th>Median</th>\n",
       "      <th>Variance</th>\n",
       "    </tr>\n",
       "  </thead>\n",
       "  <tbody>\n",
       "    <tr>\n",
       "      <th>0</th>\n",
       "      <td>-0.928571</td>\n",
       "      <td>-0.289446</td>\n",
       "      <td>0.0</td>\n",
       "      <td>-0.963999</td>\n",
       "      <td>0.000000</td>\n",
       "      <td>0.0</td>\n",
       "      <td>0.0</td>\n",
       "      <td>0.827586</td>\n",
       "      <td>-0.7</td>\n",
       "      <td>3.909091</td>\n",
       "      <td>-0.806452</td>\n",
       "      <td>-0.055556</td>\n",
       "      <td>-0.584906</td>\n",
       "      <td>-1.636364</td>\n",
       "      <td>-0.25</td>\n",
       "      <td>0.0</td>\n",
       "      <td>-1.000000</td>\n",
       "      <td>0.05</td>\n",
       "      <td>-0.947368</td>\n",
       "      <td>3.000000</td>\n",
       "    </tr>\n",
       "    <tr>\n",
       "      <th>1</th>\n",
       "      <td>-0.071429</td>\n",
       "      <td>0.843408</td>\n",
       "      <td>0.0</td>\n",
       "      <td>0.408200</td>\n",
       "      <td>0.977347</td>\n",
       "      <td>0.0</td>\n",
       "      <td>0.0</td>\n",
       "      <td>-1.103448</td>\n",
       "      <td>0.9</td>\n",
       "      <td>0.000000</td>\n",
       "      <td>0.483871</td>\n",
       "      <td>0.992063</td>\n",
       "      <td>-0.471698</td>\n",
       "      <td>1.636364</td>\n",
       "      <td>0.75</td>\n",
       "      <td>1.0</td>\n",
       "      <td>0.105263</td>\n",
       "      <td>0.00</td>\n",
       "      <td>0.052632</td>\n",
       "      <td>0.227273</td>\n",
       "    </tr>\n",
       "    <tr>\n",
       "      <th>2</th>\n",
       "      <td>0.000000</td>\n",
       "      <td>0.300504</td>\n",
       "      <td>0.0</td>\n",
       "      <td>0.822481</td>\n",
       "      <td>1.017935</td>\n",
       "      <td>0.0</td>\n",
       "      <td>0.0</td>\n",
       "      <td>-1.137931</td>\n",
       "      <td>0.9</td>\n",
       "      <td>0.000000</td>\n",
       "      <td>0.967742</td>\n",
       "      <td>0.992063</td>\n",
       "      <td>-0.471698</td>\n",
       "      <td>1.636364</td>\n",
       "      <td>0.50</td>\n",
       "      <td>1.0</td>\n",
       "      <td>0.105263</td>\n",
       "      <td>-0.05</td>\n",
       "      <td>-0.052632</td>\n",
       "      <td>0.272727</td>\n",
       "    </tr>\n",
       "    <tr>\n",
       "      <th>3</th>\n",
       "      <td>0.071429</td>\n",
       "      <td>0.165291</td>\n",
       "      <td>0.0</td>\n",
       "      <td>0.688438</td>\n",
       "      <td>0.784631</td>\n",
       "      <td>0.0</td>\n",
       "      <td>0.0</td>\n",
       "      <td>-1.137931</td>\n",
       "      <td>1.2</td>\n",
       "      <td>0.000000</td>\n",
       "      <td>2.516129</td>\n",
       "      <td>0.785714</td>\n",
       "      <td>-0.754717</td>\n",
       "      <td>0.363636</td>\n",
       "      <td>2.00</td>\n",
       "      <td>0.0</td>\n",
       "      <td>-0.105263</td>\n",
       "      <td>-0.10</td>\n",
       "      <td>-0.105263</td>\n",
       "      <td>0.272727</td>\n",
       "    </tr>\n",
       "    <tr>\n",
       "      <th>4</th>\n",
       "      <td>-0.071429</td>\n",
       "      <td>0.867394</td>\n",
       "      <td>0.0</td>\n",
       "      <td>0.787566</td>\n",
       "      <td>0.000000</td>\n",
       "      <td>0.0</td>\n",
       "      <td>0.0</td>\n",
       "      <td>-1.137931</td>\n",
       "      <td>1.2</td>\n",
       "      <td>0.000000</td>\n",
       "      <td>2.016129</td>\n",
       "      <td>0.785714</td>\n",
       "      <td>-0.754717</td>\n",
       "      <td>0.363636</td>\n",
       "      <td>1.50</td>\n",
       "      <td>0.0</td>\n",
       "      <td>-0.105263</td>\n",
       "      <td>0.00</td>\n",
       "      <td>-0.052632</td>\n",
       "      <td>0.181818</td>\n",
       "    </tr>\n",
       "  </tbody>\n",
       "</table>\n",
       "</div>"
      ],
      "text/plain": [
       "         LB      AC.1  FM.1      UC.1      DL.1  DS.1  DP.1      ASTV  MSTV  \\\n",
       "0 -0.928571 -0.289446   0.0 -0.963999  0.000000   0.0   0.0  0.827586  -0.7   \n",
       "1 -0.071429  0.843408   0.0  0.408200  0.977347   0.0   0.0 -1.103448   0.9   \n",
       "2  0.000000  0.300504   0.0  0.822481  1.017935   0.0   0.0 -1.137931   0.9   \n",
       "3  0.071429  0.165291   0.0  0.688438  0.784631   0.0   0.0 -1.137931   1.2   \n",
       "4 -0.071429  0.867394   0.0  0.787566  0.000000   0.0   0.0 -1.137931   1.2   \n",
       "\n",
       "       ALTV      MLTV     Width       Min       Max  Nmax  Nzeros      Mode  \\\n",
       "0  3.909091 -0.806452 -0.055556 -0.584906 -1.636364 -0.25     0.0 -1.000000   \n",
       "1  0.000000  0.483871  0.992063 -0.471698  1.636364  0.75     1.0  0.105263   \n",
       "2  0.000000  0.967742  0.992063 -0.471698  1.636364  0.50     1.0  0.105263   \n",
       "3  0.000000  2.516129  0.785714 -0.754717  0.363636  2.00     0.0 -0.105263   \n",
       "4  0.000000  2.016129  0.785714 -0.754717  0.363636  1.50     0.0 -0.105263   \n",
       "\n",
       "   Mean    Median  Variance  \n",
       "0  0.05 -0.947368  3.000000  \n",
       "1  0.00  0.052632  0.227273  \n",
       "2 -0.05 -0.052632  0.272727  \n",
       "3 -0.10 -0.105263  0.272727  \n",
       "4  0.00 -0.052632  0.181818  "
      ]
     },
     "execution_count": 22,
     "metadata": {},
     "output_type": "execute_result"
    }
   ],
   "source": [
    "feature_norm.head()"
   ]
  },
  {
   "cell_type": "code",
   "execution_count": 23,
   "id": "3f54fd9b",
   "metadata": {},
   "outputs": [
    {
     "data": {
      "text/html": [
       "<div>\n",
       "<style scoped>\n",
       "    .dataframe tbody tr th:only-of-type {\n",
       "        vertical-align: middle;\n",
       "    }\n",
       "\n",
       "    .dataframe tbody tr th {\n",
       "        vertical-align: top;\n",
       "    }\n",
       "\n",
       "    .dataframe thead th {\n",
       "        text-align: right;\n",
       "    }\n",
       "</style>\n",
       "<table border=\"1\" class=\"dataframe\">\n",
       "  <thead>\n",
       "    <tr style=\"text-align: right;\">\n",
       "      <th></th>\n",
       "      <th>LB</th>\n",
       "      <th>AC.1</th>\n",
       "      <th>FM.1</th>\n",
       "      <th>UC.1</th>\n",
       "      <th>DL.1</th>\n",
       "      <th>DS.1</th>\n",
       "      <th>DP.1</th>\n",
       "      <th>ASTV</th>\n",
       "      <th>MSTV</th>\n",
       "      <th>ALTV</th>\n",
       "      <th>MLTV</th>\n",
       "      <th>Width</th>\n",
       "      <th>Min</th>\n",
       "      <th>Max</th>\n",
       "      <th>Nmax</th>\n",
       "      <th>Nzeros</th>\n",
       "      <th>Mode</th>\n",
       "      <th>Mean</th>\n",
       "      <th>Median</th>\n",
       "      <th>Variance</th>\n",
       "    </tr>\n",
       "  </thead>\n",
       "  <tbody>\n",
       "    <tr>\n",
       "      <th>2121</th>\n",
       "      <td>0.500000</td>\n",
       "      <td>-0.289446</td>\n",
       "      <td>0.000000</td>\n",
       "      <td>0.633220</td>\n",
       "      <td>0.0</td>\n",
       "      <td>0.0</td>\n",
       "      <td>0.0</td>\n",
       "      <td>1.034483</td>\n",
       "      <td>-1.0</td>\n",
       "      <td>2.272727</td>\n",
       "      <td>-0.032258</td>\n",
       "      <td>-0.436508</td>\n",
       "      <td>0.830189</td>\n",
       "      <td>0.681818</td>\n",
       "      <td>0.25</td>\n",
       "      <td>0.0</td>\n",
       "      <td>0.736842</td>\n",
       "      <td>0.70</td>\n",
       "      <td>0.684211</td>\n",
       "      <td>-0.227273</td>\n",
       "    </tr>\n",
       "    <tr>\n",
       "      <th>2122</th>\n",
       "      <td>0.500000</td>\n",
       "      <td>-0.151898</td>\n",
       "      <td>0.000000</td>\n",
       "      <td>0.535482</td>\n",
       "      <td>0.0</td>\n",
       "      <td>0.0</td>\n",
       "      <td>0.0</td>\n",
       "      <td>1.000000</td>\n",
       "      <td>-0.8</td>\n",
       "      <td>2.000000</td>\n",
       "      <td>-0.048387</td>\n",
       "      <td>-0.023810</td>\n",
       "      <td>0.188679</td>\n",
       "      <td>0.318182</td>\n",
       "      <td>0.75</td>\n",
       "      <td>0.0</td>\n",
       "      <td>0.684211</td>\n",
       "      <td>0.60</td>\n",
       "      <td>0.631579</td>\n",
       "      <td>-0.181818</td>\n",
       "    </tr>\n",
       "    <tr>\n",
       "      <th>2123</th>\n",
       "      <td>0.500000</td>\n",
       "      <td>-0.115353</td>\n",
       "      <td>0.000000</td>\n",
       "      <td>0.512124</td>\n",
       "      <td>0.0</td>\n",
       "      <td>0.0</td>\n",
       "      <td>0.0</td>\n",
       "      <td>1.034483</td>\n",
       "      <td>-0.8</td>\n",
       "      <td>1.818182</td>\n",
       "      <td>-0.209677</td>\n",
       "      <td>-0.007937</td>\n",
       "      <td>0.188679</td>\n",
       "      <td>0.363636</td>\n",
       "      <td>0.50</td>\n",
       "      <td>0.0</td>\n",
       "      <td>0.736842</td>\n",
       "      <td>0.60</td>\n",
       "      <td>0.684211</td>\n",
       "      <td>-0.136364</td>\n",
       "    </tr>\n",
       "    <tr>\n",
       "      <th>2124</th>\n",
       "      <td>0.500000</td>\n",
       "      <td>-0.168893</td>\n",
       "      <td>0.000000</td>\n",
       "      <td>0.350210</td>\n",
       "      <td>0.0</td>\n",
       "      <td>0.0</td>\n",
       "      <td>0.0</td>\n",
       "      <td>1.000000</td>\n",
       "      <td>-0.8</td>\n",
       "      <td>2.454545</td>\n",
       "      <td>-0.064516</td>\n",
       "      <td>-0.023810</td>\n",
       "      <td>0.188679</td>\n",
       "      <td>0.318182</td>\n",
       "      <td>0.75</td>\n",
       "      <td>0.0</td>\n",
       "      <td>0.684211</td>\n",
       "      <td>0.55</td>\n",
       "      <td>0.631579</td>\n",
       "      <td>-0.136364</td>\n",
       "    </tr>\n",
       "    <tr>\n",
       "      <th>2125</th>\n",
       "      <td>0.642857</td>\n",
       "      <td>-0.002572</td>\n",
       "      <td>0.643036</td>\n",
       "      <td>0.773418</td>\n",
       "      <td>0.0</td>\n",
       "      <td>0.0</td>\n",
       "      <td>0.0</td>\n",
       "      <td>0.862069</td>\n",
       "      <td>-0.8</td>\n",
       "      <td>3.272727</td>\n",
       "      <td>-0.387097</td>\n",
       "      <td>-0.404762</td>\n",
       "      <td>0.452830</td>\n",
       "      <td>-0.136364</td>\n",
       "      <td>-0.25</td>\n",
       "      <td>1.0</td>\n",
       "      <td>0.315789</td>\n",
       "      <td>0.35</td>\n",
       "      <td>0.315789</td>\n",
       "      <td>-0.272727</td>\n",
       "    </tr>\n",
       "  </tbody>\n",
       "</table>\n",
       "</div>"
      ],
      "text/plain": [
       "            LB      AC.1      FM.1      UC.1  DL.1  DS.1  DP.1      ASTV  \\\n",
       "2121  0.500000 -0.289446  0.000000  0.633220   0.0   0.0   0.0  1.034483   \n",
       "2122  0.500000 -0.151898  0.000000  0.535482   0.0   0.0   0.0  1.000000   \n",
       "2123  0.500000 -0.115353  0.000000  0.512124   0.0   0.0   0.0  1.034483   \n",
       "2124  0.500000 -0.168893  0.000000  0.350210   0.0   0.0   0.0  1.000000   \n",
       "2125  0.642857 -0.002572  0.643036  0.773418   0.0   0.0   0.0  0.862069   \n",
       "\n",
       "      MSTV      ALTV      MLTV     Width       Min       Max  Nmax  Nzeros  \\\n",
       "2121  -1.0  2.272727 -0.032258 -0.436508  0.830189  0.681818  0.25     0.0   \n",
       "2122  -0.8  2.000000 -0.048387 -0.023810  0.188679  0.318182  0.75     0.0   \n",
       "2123  -0.8  1.818182 -0.209677 -0.007937  0.188679  0.363636  0.50     0.0   \n",
       "2124  -0.8  2.454545 -0.064516 -0.023810  0.188679  0.318182  0.75     0.0   \n",
       "2125  -0.8  3.272727 -0.387097 -0.404762  0.452830 -0.136364 -0.25     1.0   \n",
       "\n",
       "          Mode  Mean    Median  Variance  \n",
       "2121  0.736842  0.70  0.684211 -0.227273  \n",
       "2122  0.684211  0.60  0.631579 -0.181818  \n",
       "2123  0.736842  0.60  0.684211 -0.136364  \n",
       "2124  0.684211  0.55  0.631579 -0.136364  \n",
       "2125  0.315789  0.35  0.315789 -0.272727  "
      ]
     },
     "execution_count": 23,
     "metadata": {},
     "output_type": "execute_result"
    }
   ],
   "source": [
    "feature_norm.tail()"
   ]
  },
  {
   "cell_type": "code",
   "execution_count": 24,
   "id": "379cc33f",
   "metadata": {},
   "outputs": [],
   "source": [
    "feature_all=feature_norm.join(ctg_feature['Tendency'])"
   ]
  },
  {
   "cell_type": "code",
   "execution_count": 25,
   "id": "dc1cf3e6",
   "metadata": {},
   "outputs": [
    {
     "data": {
      "text/html": [
       "<div>\n",
       "<style scoped>\n",
       "    .dataframe tbody tr th:only-of-type {\n",
       "        vertical-align: middle;\n",
       "    }\n",
       "\n",
       "    .dataframe tbody tr th {\n",
       "        vertical-align: top;\n",
       "    }\n",
       "\n",
       "    .dataframe thead th {\n",
       "        text-align: right;\n",
       "    }\n",
       "</style>\n",
       "<table border=\"1\" class=\"dataframe\">\n",
       "  <thead>\n",
       "    <tr style=\"text-align: right;\">\n",
       "      <th></th>\n",
       "      <th>LB</th>\n",
       "      <th>AC.1</th>\n",
       "      <th>FM.1</th>\n",
       "      <th>UC.1</th>\n",
       "      <th>DL.1</th>\n",
       "      <th>DS.1</th>\n",
       "      <th>DP.1</th>\n",
       "      <th>ASTV</th>\n",
       "      <th>MSTV</th>\n",
       "      <th>ALTV</th>\n",
       "      <th>...</th>\n",
       "      <th>Width</th>\n",
       "      <th>Min</th>\n",
       "      <th>Max</th>\n",
       "      <th>Nmax</th>\n",
       "      <th>Nzeros</th>\n",
       "      <th>Mode</th>\n",
       "      <th>Mean</th>\n",
       "      <th>Median</th>\n",
       "      <th>Variance</th>\n",
       "      <th>Tendency</th>\n",
       "    </tr>\n",
       "  </thead>\n",
       "  <tbody>\n",
       "    <tr>\n",
       "      <th>0</th>\n",
       "      <td>-0.928571</td>\n",
       "      <td>-0.289446</td>\n",
       "      <td>0.0</td>\n",
       "      <td>-0.963999</td>\n",
       "      <td>0.000000</td>\n",
       "      <td>0.0</td>\n",
       "      <td>0.0</td>\n",
       "      <td>0.827586</td>\n",
       "      <td>-0.7</td>\n",
       "      <td>3.909091</td>\n",
       "      <td>...</td>\n",
       "      <td>-0.055556</td>\n",
       "      <td>-0.584906</td>\n",
       "      <td>-1.636364</td>\n",
       "      <td>-0.25</td>\n",
       "      <td>0.0</td>\n",
       "      <td>-1.000000</td>\n",
       "      <td>0.05</td>\n",
       "      <td>-0.947368</td>\n",
       "      <td>3.000000</td>\n",
       "      <td>1.0</td>\n",
       "    </tr>\n",
       "    <tr>\n",
       "      <th>1</th>\n",
       "      <td>-0.071429</td>\n",
       "      <td>0.843408</td>\n",
       "      <td>0.0</td>\n",
       "      <td>0.408200</td>\n",
       "      <td>0.977347</td>\n",
       "      <td>0.0</td>\n",
       "      <td>0.0</td>\n",
       "      <td>-1.103448</td>\n",
       "      <td>0.9</td>\n",
       "      <td>0.000000</td>\n",
       "      <td>...</td>\n",
       "      <td>0.992063</td>\n",
       "      <td>-0.471698</td>\n",
       "      <td>1.636364</td>\n",
       "      <td>0.75</td>\n",
       "      <td>1.0</td>\n",
       "      <td>0.105263</td>\n",
       "      <td>0.00</td>\n",
       "      <td>0.052632</td>\n",
       "      <td>0.227273</td>\n",
       "      <td>0.0</td>\n",
       "    </tr>\n",
       "    <tr>\n",
       "      <th>2</th>\n",
       "      <td>0.000000</td>\n",
       "      <td>0.300504</td>\n",
       "      <td>0.0</td>\n",
       "      <td>0.822481</td>\n",
       "      <td>1.017935</td>\n",
       "      <td>0.0</td>\n",
       "      <td>0.0</td>\n",
       "      <td>-1.137931</td>\n",
       "      <td>0.9</td>\n",
       "      <td>0.000000</td>\n",
       "      <td>...</td>\n",
       "      <td>0.992063</td>\n",
       "      <td>-0.471698</td>\n",
       "      <td>1.636364</td>\n",
       "      <td>0.50</td>\n",
       "      <td>1.0</td>\n",
       "      <td>0.105263</td>\n",
       "      <td>-0.05</td>\n",
       "      <td>-0.052632</td>\n",
       "      <td>0.272727</td>\n",
       "      <td>0.0</td>\n",
       "    </tr>\n",
       "    <tr>\n",
       "      <th>3</th>\n",
       "      <td>0.071429</td>\n",
       "      <td>0.165291</td>\n",
       "      <td>0.0</td>\n",
       "      <td>0.688438</td>\n",
       "      <td>0.784631</td>\n",
       "      <td>0.0</td>\n",
       "      <td>0.0</td>\n",
       "      <td>-1.137931</td>\n",
       "      <td>1.2</td>\n",
       "      <td>0.000000</td>\n",
       "      <td>...</td>\n",
       "      <td>0.785714</td>\n",
       "      <td>-0.754717</td>\n",
       "      <td>0.363636</td>\n",
       "      <td>2.00</td>\n",
       "      <td>0.0</td>\n",
       "      <td>-0.105263</td>\n",
       "      <td>-0.10</td>\n",
       "      <td>-0.105263</td>\n",
       "      <td>0.272727</td>\n",
       "      <td>1.0</td>\n",
       "    </tr>\n",
       "    <tr>\n",
       "      <th>4</th>\n",
       "      <td>-0.071429</td>\n",
       "      <td>0.867394</td>\n",
       "      <td>0.0</td>\n",
       "      <td>0.787566</td>\n",
       "      <td>0.000000</td>\n",
       "      <td>0.0</td>\n",
       "      <td>0.0</td>\n",
       "      <td>-1.137931</td>\n",
       "      <td>1.2</td>\n",
       "      <td>0.000000</td>\n",
       "      <td>...</td>\n",
       "      <td>0.785714</td>\n",
       "      <td>-0.754717</td>\n",
       "      <td>0.363636</td>\n",
       "      <td>1.50</td>\n",
       "      <td>0.0</td>\n",
       "      <td>-0.105263</td>\n",
       "      <td>0.00</td>\n",
       "      <td>-0.052632</td>\n",
       "      <td>0.181818</td>\n",
       "      <td>1.0</td>\n",
       "    </tr>\n",
       "  </tbody>\n",
       "</table>\n",
       "<p>5 rows × 21 columns</p>\n",
       "</div>"
      ],
      "text/plain": [
       "         LB      AC.1  FM.1      UC.1      DL.1  DS.1  DP.1      ASTV  MSTV  \\\n",
       "0 -0.928571 -0.289446   0.0 -0.963999  0.000000   0.0   0.0  0.827586  -0.7   \n",
       "1 -0.071429  0.843408   0.0  0.408200  0.977347   0.0   0.0 -1.103448   0.9   \n",
       "2  0.000000  0.300504   0.0  0.822481  1.017935   0.0   0.0 -1.137931   0.9   \n",
       "3  0.071429  0.165291   0.0  0.688438  0.784631   0.0   0.0 -1.137931   1.2   \n",
       "4 -0.071429  0.867394   0.0  0.787566  0.000000   0.0   0.0 -1.137931   1.2   \n",
       "\n",
       "       ALTV  ...     Width       Min       Max  Nmax  Nzeros      Mode  Mean  \\\n",
       "0  3.909091  ... -0.055556 -0.584906 -1.636364 -0.25     0.0 -1.000000  0.05   \n",
       "1  0.000000  ...  0.992063 -0.471698  1.636364  0.75     1.0  0.105263  0.00   \n",
       "2  0.000000  ...  0.992063 -0.471698  1.636364  0.50     1.0  0.105263 -0.05   \n",
       "3  0.000000  ...  0.785714 -0.754717  0.363636  2.00     0.0 -0.105263 -0.10   \n",
       "4  0.000000  ...  0.785714 -0.754717  0.363636  1.50     0.0 -0.105263  0.00   \n",
       "\n",
       "     Median  Variance  Tendency  \n",
       "0 -0.947368  3.000000       1.0  \n",
       "1  0.052632  0.227273       0.0  \n",
       "2 -0.052632  0.272727       0.0  \n",
       "3 -0.105263  0.272727       1.0  \n",
       "4 -0.052632  0.181818       1.0  \n",
       "\n",
       "[5 rows x 21 columns]"
      ]
     },
     "execution_count": 25,
     "metadata": {},
     "output_type": "execute_result"
    }
   ],
   "source": [
    "feature_all.head()"
   ]
  },
  {
   "cell_type": "code",
   "execution_count": 26,
   "id": "0280afb4",
   "metadata": {},
   "outputs": [
    {
     "data": {
      "text/html": [
       "<div>\n",
       "<style scoped>\n",
       "    .dataframe tbody tr th:only-of-type {\n",
       "        vertical-align: middle;\n",
       "    }\n",
       "\n",
       "    .dataframe tbody tr th {\n",
       "        vertical-align: top;\n",
       "    }\n",
       "\n",
       "    .dataframe thead th {\n",
       "        text-align: right;\n",
       "    }\n",
       "</style>\n",
       "<table border=\"1\" class=\"dataframe\">\n",
       "  <thead>\n",
       "    <tr style=\"text-align: right;\">\n",
       "      <th></th>\n",
       "      <th>LB</th>\n",
       "      <th>AC.1</th>\n",
       "      <th>FM.1</th>\n",
       "      <th>UC.1</th>\n",
       "      <th>DL.1</th>\n",
       "      <th>DS.1</th>\n",
       "      <th>DP.1</th>\n",
       "      <th>ASTV</th>\n",
       "      <th>MSTV</th>\n",
       "      <th>ALTV</th>\n",
       "      <th>...</th>\n",
       "      <th>Width</th>\n",
       "      <th>Min</th>\n",
       "      <th>Max</th>\n",
       "      <th>Nmax</th>\n",
       "      <th>Nzeros</th>\n",
       "      <th>Mode</th>\n",
       "      <th>Mean</th>\n",
       "      <th>Median</th>\n",
       "      <th>Variance</th>\n",
       "      <th>Tendency</th>\n",
       "    </tr>\n",
       "  </thead>\n",
       "  <tbody>\n",
       "    <tr>\n",
       "      <th>2121</th>\n",
       "      <td>0.500000</td>\n",
       "      <td>-0.289446</td>\n",
       "      <td>0.000000</td>\n",
       "      <td>0.633220</td>\n",
       "      <td>0.0</td>\n",
       "      <td>0.0</td>\n",
       "      <td>0.0</td>\n",
       "      <td>1.034483</td>\n",
       "      <td>-1.0</td>\n",
       "      <td>2.272727</td>\n",
       "      <td>...</td>\n",
       "      <td>-0.436508</td>\n",
       "      <td>0.830189</td>\n",
       "      <td>0.681818</td>\n",
       "      <td>0.25</td>\n",
       "      <td>0.0</td>\n",
       "      <td>0.736842</td>\n",
       "      <td>0.70</td>\n",
       "      <td>0.684211</td>\n",
       "      <td>-0.227273</td>\n",
       "      <td>0.0</td>\n",
       "    </tr>\n",
       "    <tr>\n",
       "      <th>2122</th>\n",
       "      <td>0.500000</td>\n",
       "      <td>-0.151898</td>\n",
       "      <td>0.000000</td>\n",
       "      <td>0.535482</td>\n",
       "      <td>0.0</td>\n",
       "      <td>0.0</td>\n",
       "      <td>0.0</td>\n",
       "      <td>1.000000</td>\n",
       "      <td>-0.8</td>\n",
       "      <td>2.000000</td>\n",
       "      <td>...</td>\n",
       "      <td>-0.023810</td>\n",
       "      <td>0.188679</td>\n",
       "      <td>0.318182</td>\n",
       "      <td>0.75</td>\n",
       "      <td>0.0</td>\n",
       "      <td>0.684211</td>\n",
       "      <td>0.60</td>\n",
       "      <td>0.631579</td>\n",
       "      <td>-0.181818</td>\n",
       "      <td>1.0</td>\n",
       "    </tr>\n",
       "    <tr>\n",
       "      <th>2123</th>\n",
       "      <td>0.500000</td>\n",
       "      <td>-0.115353</td>\n",
       "      <td>0.000000</td>\n",
       "      <td>0.512124</td>\n",
       "      <td>0.0</td>\n",
       "      <td>0.0</td>\n",
       "      <td>0.0</td>\n",
       "      <td>1.034483</td>\n",
       "      <td>-0.8</td>\n",
       "      <td>1.818182</td>\n",
       "      <td>...</td>\n",
       "      <td>-0.007937</td>\n",
       "      <td>0.188679</td>\n",
       "      <td>0.363636</td>\n",
       "      <td>0.50</td>\n",
       "      <td>0.0</td>\n",
       "      <td>0.736842</td>\n",
       "      <td>0.60</td>\n",
       "      <td>0.684211</td>\n",
       "      <td>-0.136364</td>\n",
       "      <td>1.0</td>\n",
       "    </tr>\n",
       "    <tr>\n",
       "      <th>2124</th>\n",
       "      <td>0.500000</td>\n",
       "      <td>-0.168893</td>\n",
       "      <td>0.000000</td>\n",
       "      <td>0.350210</td>\n",
       "      <td>0.0</td>\n",
       "      <td>0.0</td>\n",
       "      <td>0.0</td>\n",
       "      <td>1.000000</td>\n",
       "      <td>-0.8</td>\n",
       "      <td>2.454545</td>\n",
       "      <td>...</td>\n",
       "      <td>-0.023810</td>\n",
       "      <td>0.188679</td>\n",
       "      <td>0.318182</td>\n",
       "      <td>0.75</td>\n",
       "      <td>0.0</td>\n",
       "      <td>0.684211</td>\n",
       "      <td>0.55</td>\n",
       "      <td>0.631579</td>\n",
       "      <td>-0.136364</td>\n",
       "      <td>1.0</td>\n",
       "    </tr>\n",
       "    <tr>\n",
       "      <th>2125</th>\n",
       "      <td>0.642857</td>\n",
       "      <td>-0.002572</td>\n",
       "      <td>0.643036</td>\n",
       "      <td>0.773418</td>\n",
       "      <td>0.0</td>\n",
       "      <td>0.0</td>\n",
       "      <td>0.0</td>\n",
       "      <td>0.862069</td>\n",
       "      <td>-0.8</td>\n",
       "      <td>3.272727</td>\n",
       "      <td>...</td>\n",
       "      <td>-0.404762</td>\n",
       "      <td>0.452830</td>\n",
       "      <td>-0.136364</td>\n",
       "      <td>-0.25</td>\n",
       "      <td>1.0</td>\n",
       "      <td>0.315789</td>\n",
       "      <td>0.35</td>\n",
       "      <td>0.315789</td>\n",
       "      <td>-0.272727</td>\n",
       "      <td>0.0</td>\n",
       "    </tr>\n",
       "  </tbody>\n",
       "</table>\n",
       "<p>5 rows × 21 columns</p>\n",
       "</div>"
      ],
      "text/plain": [
       "            LB      AC.1      FM.1      UC.1  DL.1  DS.1  DP.1      ASTV  \\\n",
       "2121  0.500000 -0.289446  0.000000  0.633220   0.0   0.0   0.0  1.034483   \n",
       "2122  0.500000 -0.151898  0.000000  0.535482   0.0   0.0   0.0  1.000000   \n",
       "2123  0.500000 -0.115353  0.000000  0.512124   0.0   0.0   0.0  1.034483   \n",
       "2124  0.500000 -0.168893  0.000000  0.350210   0.0   0.0   0.0  1.000000   \n",
       "2125  0.642857 -0.002572  0.643036  0.773418   0.0   0.0   0.0  0.862069   \n",
       "\n",
       "      MSTV      ALTV  ...     Width       Min       Max  Nmax  Nzeros  \\\n",
       "2121  -1.0  2.272727  ... -0.436508  0.830189  0.681818  0.25     0.0   \n",
       "2122  -0.8  2.000000  ... -0.023810  0.188679  0.318182  0.75     0.0   \n",
       "2123  -0.8  1.818182  ... -0.007937  0.188679  0.363636  0.50     0.0   \n",
       "2124  -0.8  2.454545  ... -0.023810  0.188679  0.318182  0.75     0.0   \n",
       "2125  -0.8  3.272727  ... -0.404762  0.452830 -0.136364 -0.25     1.0   \n",
       "\n",
       "          Mode  Mean    Median  Variance  Tendency  \n",
       "2121  0.736842  0.70  0.684211 -0.227273       0.0  \n",
       "2122  0.684211  0.60  0.631579 -0.181818       1.0  \n",
       "2123  0.736842  0.60  0.684211 -0.136364       1.0  \n",
       "2124  0.684211  0.55  0.631579 -0.136364       1.0  \n",
       "2125  0.315789  0.35  0.315789 -0.272727       0.0  \n",
       "\n",
       "[5 rows x 21 columns]"
      ]
     },
     "execution_count": 26,
     "metadata": {},
     "output_type": "execute_result"
    }
   ],
   "source": [
    "feature_all.tail()"
   ]
  },
  {
   "cell_type": "code",
   "execution_count": 27,
   "id": "eb302230",
   "metadata": {},
   "outputs": [],
   "source": [
    "# Save file to .csv\n",
    "df_ctg=feature_all.join(ctg['NSP'])\n",
    "df_ctg.to_csv('ctg.csv',index=False)"
   ]
  },
  {
   "cell_type": "markdown",
   "id": "9e65f044",
   "metadata": {},
   "source": [
    "## Train-Test Split"
   ]
  },
  {
   "cell_type": "code",
   "execution_count": 28,
   "id": "e3e54f18",
   "metadata": {},
   "outputs": [],
   "source": [
    "X = feature_all\n",
    "y = ctg['NSP']\n",
    "X_train, X_test, y_train, y_test = train_test_split(X, y, test_size=0.2, random_state=1)"
   ]
  },
  {
   "cell_type": "markdown",
   "id": "c1ed3d4c",
   "metadata": {},
   "source": [
    "## Feature Selection"
   ]
  },
  {
   "cell_type": "code",
   "execution_count": 29,
   "id": "d6042362",
   "metadata": {},
   "outputs": [],
   "source": [
    "# feature selection memakai ANOVA F-test statistic\n",
    "def select_features_anova(X_train, y_train, X_test,k):\n",
    "    #configure to select all features\n",
    "    fs_anova = SelectKBest(score_func=f_classif, k=k)\n",
    "    #learn relationship from training data\n",
    "    fs_anova.fit(X_train, y_train)\n",
    "    #transform train input data\n",
    "    X_train_anova = fs_anova.transform(X_train)\n",
    "    #transform test input data\n",
    "    X_test_anova = fs_anova.transform(X_test)\n",
    "    return X_train_anova, X_test_anova, fs_anova"
   ]
  },
  {
   "cell_type": "code",
   "execution_count": 30,
   "id": "696504f5",
   "metadata": {},
   "outputs": [],
   "source": [
    "# feature selection memakai Mutual Information\n",
    "def select_features_mi(X_train, y_train, X_test,k):\n",
    "    #configure to select all features\n",
    "    fs_mi = SelectKBest(score_func=mutual_info_classif, k=k)\n",
    "    #learn relationship from training data\n",
    "    fs_mi.fit(X_train, y_train)\n",
    "    #transform train input data\n",
    "    X_train_mi = fs_mi.transform(X_train)\n",
    "    #transform test input data\n",
    "    X_test_mi = fs_mi.transform(X_test)\n",
    "    return X_train_mi, X_test_mi, fs_mi"
   ]
  },
  {
   "cell_type": "code",
   "execution_count": 31,
   "id": "333cad12",
   "metadata": {},
   "outputs": [
    {
     "name": "stdout",
     "output_type": "stream",
     "text": [
      "[1, 2, 3, 4, 5, 6, 7, 8, 9, 10, 11, 12, 13, 14, 15, 16, 17, 18, 19, 20, 21]\n"
     ]
    }
   ],
   "source": [
    "#define number of feature to evaluate\n",
    "num_features = [i+1 for i in range(X.shape[1])]\n",
    "print(num_features)"
   ]
  },
  {
   "cell_type": "markdown",
   "id": "fee90205",
   "metadata": {},
   "source": [
    "### Fit model menggunakan semua feature"
   ]
  },
  {
   "cell_type": "code",
   "execution_count": 32,
   "id": "29cc63d5",
   "metadata": {},
   "outputs": [
    {
     "data": {
      "text/plain": [
       "LogisticRegression(solver='liblinear')"
      ]
     },
     "execution_count": 32,
     "metadata": {},
     "output_type": "execute_result"
    }
   ],
   "source": [
    "model_all = LogisticRegression(solver='liblinear')\n",
    "model_all.fit(X_train, y_train)"
   ]
  },
  {
   "cell_type": "code",
   "execution_count": 33,
   "id": "fff222aa",
   "metadata": {},
   "outputs": [
    {
     "name": "stdout",
     "output_type": "stream",
     "text": [
      "Accuracy: 88.50\n"
     ]
    }
   ],
   "source": [
    "# evaluate the model\n",
    "yhat_all = model_all.predict(X_test)\n",
    "# evaluate predictions\n",
    "accuracy = accuracy_score(y_test, yhat_all)\n",
    "print('Accuracy: %.2f' % (accuracy*100))"
   ]
  },
  {
   "cell_type": "markdown",
   "id": "3244cf3f",
   "metadata": {},
   "source": [
    "### Feature Selection menggunakan ANOVA F-test Statistic"
   ]
  },
  {
   "cell_type": "code",
   "execution_count": 34,
   "id": "7c5c4313",
   "metadata": {},
   "outputs": [],
   "source": [
    "X_train_anova, X_test_anova, fs_anova = select_features_anova(X_train, y_train, X_test,'all')"
   ]
  },
  {
   "cell_type": "code",
   "execution_count": 35,
   "id": "53796faf",
   "metadata": {},
   "outputs": [
    {
     "name": "stdout",
     "output_type": "stream",
     "text": [
      "Feature 0: 94.721\n",
      "Feature 1: 151.251\n",
      "Feature 2: 5.313\n",
      "Feature 3: 75.307\n",
      "Feature 4: 57.118\n",
      "Feature 5: 23.723\n",
      "Feature 6: 455.785\n",
      "Feature 7: 281.835\n",
      "Feature 8: 98.518\n",
      "Feature 9: 245.337\n",
      "Feature 10: 58.819\n",
      "Feature 11: 44.709\n",
      "Feature 12: 68.895\n",
      "Feature 13: 1.806\n",
      "Feature 14: 9.752\n",
      "Feature 15: 2.926\n",
      "Feature 16: 230.938\n",
      "Feature 17: 254.276\n",
      "Feature 18: 211.995\n",
      "Feature 19: 124.451\n",
      "Feature 20: 39.808\n"
     ]
    }
   ],
   "source": [
    "# calculate the score for each feature\n",
    "for i in range(len(fs_anova.scores_)):\n",
    "    print('Feature %d: %.3f' % (i, fs_anova.scores_[i]))"
   ]
  },
  {
   "cell_type": "code",
   "execution_count": 36,
   "id": "ddccec21",
   "metadata": {},
   "outputs": [
    {
     "data": {
      "image/png": "[encoded data removed]",
      "text/plain": [
       "<Figure size 432x288 with 1 Axes>"
      ]
     },
     "metadata": {
      "needs_background": "light"
     },
     "output_type": "display_data"
    }
   ],
   "source": [
    "# plot the scores\n",
    "pyplot.bar([i for i in range(len(fs_anova.scores_))], fs_anova.scores_)\n",
    "pyplot.show()"
   ]
  },
  {
   "cell_type": "code",
   "execution_count": 37,
   "id": "6642fe05",
   "metadata": {},
   "outputs": [
    {
     "name": "stdout",
     "output_type": "stream",
     "text": [
      ">1 Accuracy: 76.53\n",
      ">2 Accuracy: 78.17\n",
      ">3 Accuracy: 81.22\n",
      ">4 Accuracy: 83.57\n",
      ">5 Accuracy: 83.80\n",
      ">6 Accuracy: 83.33\n",
      ">7 Accuracy: 85.21\n",
      ">8 Accuracy: 87.09\n",
      ">9 Accuracy: 87.79\n",
      ">10 Accuracy: 88.26\n",
      ">11 Accuracy: 88.50\n",
      ">12 Accuracy: 88.50\n",
      ">13 Accuracy: 88.73\n",
      ">14 Accuracy: 89.20\n",
      ">15 Accuracy: 88.73\n",
      ">16 Accuracy: 88.73\n",
      ">17 Accuracy: 88.73\n",
      ">18 Accuracy: 88.73\n",
      ">19 Accuracy: 89.20\n",
      ">20 Accuracy: 88.26\n",
      ">21 Accuracy: 88.50\n"
     ]
    }
   ],
   "source": [
    "results=list()\n",
    "for num_feature in num_features:\n",
    "    X_train_anova, X_test_anova, fs_anova = select_features_anova(X_train, y_train, X_test,num_feature)\n",
    "    model_anova = LogisticRegression(solver='liblinear')\n",
    "    model_anova.fit(X_train_anova, y_train)\n",
    "    # evaluate the model\n",
    "    yhat_anova = model_anova.predict(X_test_anova)\n",
    "    # evaluate predictions\n",
    "    accuracy = accuracy_score(y_test, yhat_anova)\n",
    "    print('>%d Accuracy: %.2f' % (num_feature, accuracy*100))    "
   ]
  },
  {
   "cell_type": "markdown",
   "id": "792acc9b",
   "metadata": {},
   "source": [
    "### Feature selection menggunakan Mutual Information"
   ]
  },
  {
   "cell_type": "code",
   "execution_count": 38,
   "id": "6a04f093",
   "metadata": {},
   "outputs": [],
   "source": [
    "X_train_mi, X_test_mi, fs_mi = select_features_mi(X_train, y_train, X_test,'all')"
   ]
  },
  {
   "cell_type": "code",
   "execution_count": 39,
   "id": "0a6d7817",
   "metadata": {},
   "outputs": [
    {
     "name": "stdout",
     "output_type": "stream",
     "text": [
      "Feature 0: 0.115\n",
      "Feature 1: 0.134\n",
      "Feature 2: 0.042\n",
      "Feature 3: 0.061\n",
      "Feature 4: 0.065\n",
      "Feature 5: 0.011\n",
      "Feature 6: 0.100\n",
      "Feature 7: 0.203\n",
      "Feature 8: 0.225\n",
      "Feature 9: 0.167\n",
      "Feature 10: 0.075\n",
      "Feature 11: 0.133\n",
      "Feature 12: 0.150\n",
      "Feature 13: 0.064\n",
      "Feature 14: 0.009\n",
      "Feature 15: 0.000\n",
      "Feature 16: 0.149\n",
      "Feature 17: 0.172\n",
      "Feature 18: 0.147\n",
      "Feature 19: 0.139\n",
      "Feature 20: 0.012\n"
     ]
    }
   ],
   "source": [
    "# calculate the score for each feature\n",
    "for i in range(len(fs_mi.scores_)):\n",
    "    print('Feature %d: %.3f' % (i, fs_mi.scores_[i]))"
   ]
  },
  {
   "cell_type": "code",
   "execution_count": 40,
   "id": "988375b1",
   "metadata": {},
   "outputs": [
    {
     "data": {
      "image/png": "[encoded data removed]",
      "text/plain": [
       "<Figure size 432x288 with 1 Axes>"
      ]
     },
     "metadata": {
      "needs_background": "light"
     },
     "output_type": "display_data"
    }
   ],
   "source": [
    "# plot the scores\n",
    "pyplot.bar([i for i in range(len(fs_mi.scores_))], fs_mi.scores_)\n",
    "pyplot.show()\n"
   ]
  },
  {
   "cell_type": "code",
   "execution_count": 41,
   "id": "be70c2d3",
   "metadata": {},
   "outputs": [
    {
     "name": "stdout",
     "output_type": "stream",
     "text": [
      ">1 Accuracy: 78.17\n",
      ">2 Accuracy: 78.40\n",
      ">3 Accuracy: 80.05\n",
      ">4 Accuracy: 83.10\n",
      ">5 Accuracy: 83.33\n",
      ">6 Accuracy: 83.80\n",
      ">7 Accuracy: 86.15\n",
      ">8 Accuracy: 84.04\n",
      ">9 Accuracy: 86.38\n",
      ">10 Accuracy: 87.79\n",
      ">11 Accuracy: 88.03\n",
      ">12 Accuracy: 88.03\n",
      ">13 Accuracy: 88.03\n",
      ">14 Accuracy: 88.97\n",
      ">15 Accuracy: 88.97\n",
      ">16 Accuracy: 88.50\n",
      ">17 Accuracy: 88.50\n",
      ">18 Accuracy: 87.56\n",
      ">19 Accuracy: 89.20\n",
      ">20 Accuracy: 89.20\n",
      ">21 Accuracy: 88.50\n"
     ]
    }
   ],
   "source": [
    "results=list()\n",
    "for num_feature in num_features:\n",
    "    X_train_mi, X_test_mi, fs_mi = select_features_mi(X_train, y_train, X_test,num_feature)\n",
    "    model_mi = LogisticRegression(solver='liblinear')\n",
    "    model_mi.fit(X_train_mi, y_train)\n",
    "    # evaluate the model\n",
    "    yhat_mi = model_mi.predict(X_test_mi)\n",
    "    # evaluate predictions\n",
    "    accuracy_mi = accuracy_score(y_test, yhat_mi)\n",
    "    print('>%d Accuracy: %.2f' % (num_feature, accuracy_mi*100))    "
   ]
  },
  {
   "cell_type": "markdown",
   "id": "4725b167",
   "metadata": {},
   "source": [
    "### Feature Selection menggunakan ANOVA F-test Statistic (Cross validation)"
   ]
  },
  {
   "cell_type": "code",
   "execution_count": 42,
   "id": "6ff0e733",
   "metadata": {},
   "outputs": [],
   "source": [
    "# evaluate a given model using cross-validation\n",
    "def evaluate_model(model):\n",
    "    cv = RepeatedStratifiedKFold(n_splits=4, n_repeats=3, random_state=1)\n",
    "    scores= cross_val_score(model,X_train,y_train,scoring='accuracy', cv=cv, n_jobs=-1)\n",
    "    return scores\n",
    "def evaluate_model_sel(model):\n",
    "    cv = RepeatedStratifiedKFold(n_splits=4, n_repeats=3, random_state=1)\n",
    "    scores= cross_val_score(model,X_train_sel,y_train,scoring='accuracy', cv=cv, n_jobs=-1)\n",
    "    return scores"
   ]
  },
  {
   "cell_type": "code",
   "execution_count": 43,
   "id": "dad97a28",
   "metadata": {},
   "outputs": [
    {
     "name": "stdout",
     "output_type": "stream",
     "text": [
      ">1 0.782 (0.001019)\n",
      ">2 0.793 (0.005830)\n",
      ">3 0.814 (0.008399)\n",
      ">4 0.841 (0.023610)\n",
      ">5 0.842 (0.018025)\n",
      ">6 0.845 (0.011330)\n",
      ">7 0.853 (0.012792)\n",
      ">8 0.872 (0.011964)\n",
      ">9 0.871 (0.010646)\n",
      ">10 0.878 (0.013136)\n",
      ">11 0.884 (0.015641)\n",
      ">12 0.887 (0.014423)\n",
      ">13 0.888 (0.014916)\n",
      ">14 0.887 (0.014435)\n",
      ">15 0.890 (0.015968)\n",
      ">16 0.889 (0.016582)\n",
      ">17 0.889 (0.016522)\n",
      ">18 0.889 (0.015153)\n",
      ">19 0.890 (0.013981)\n",
      ">20 0.889 (0.016144)\n",
      ">21 0.889 (0.015603)\n"
     ]
    }
   ],
   "source": [
    "#enumerate each number of features\n",
    "results_anova=list()\n",
    "for num_feature in num_features:\n",
    "    #create pipeline\n",
    "    model_anova = LogisticRegression(solver='liblinear')\n",
    "    fs_anova=SelectKBest(score_func=f_classif,k=num_feature)\n",
    "    pipeline_anova=Pipeline(steps=[('anova',fs_anova),('lr',model_anova)])\n",
    "    #evaluate the model\n",
    "    scores_anova=evaluate_model(pipeline_anova)\n",
    "    results_anova.append(scores_anova)\n",
    "    #summarize the results\n",
    "    print('>%d %.3f (%.6f)' % (num_feature, np.mean(scores_anova),np.std(scores_anova)))"
   ]
  },
  {
   "cell_type": "code",
   "execution_count": 44,
   "id": "7af88516",
   "metadata": {},
   "outputs": [
    {
     "data": {
      "image/png": "[encoded data removed]",
      "text/plain": [
       "<Figure size 432x288 with 1 Axes>"
      ]
     },
     "metadata": {
      "needs_background": "light"
     },
     "output_type": "display_data"
    }
   ],
   "source": [
    "# plot model performance for comparison\n",
    "pyplot.boxplot(results_anova, labels=num_features, showmeans=True)\n",
    "plt.xlabel(\"Jumlah Feature Dipakai\")\n",
    "plt.ylabel(\"Skor Akurasi\")\n",
    "pyplot.show()"
   ]
  },
  {
   "cell_type": "markdown",
   "id": "7cd29e7b",
   "metadata": {},
   "source": [
    "hasil terbaik adalah k = 19"
   ]
  },
  {
   "cell_type": "markdown",
   "id": "646524e9",
   "metadata": {},
   "source": [
    "### Feature Selection menggunakan Mutual Information (Cross validation)"
   ]
  },
  {
   "cell_type": "code",
   "execution_count": 45,
   "id": "d12e1ee2",
   "metadata": {},
   "outputs": [
    {
     "name": "stdout",
     "output_type": "stream",
     "text": [
      ">1 0.782 (0.001301)\n",
      ">2 0.798 (0.007305)\n",
      ">3 0.816 (0.016666)\n",
      ">4 0.843 (0.015680)\n",
      ">5 0.845 (0.013361)\n",
      ">6 0.848 (0.013210)\n",
      ">7 0.853 (0.008821)\n",
      ">8 0.861 (0.012555)\n",
      ">9 0.870 (0.008977)\n",
      ">10 0.873 (0.010887)\n",
      ">11 0.878 (0.013183)\n",
      ">12 0.880 (0.012904)\n",
      ">13 0.881 (0.013258)\n",
      ">14 0.888 (0.016949)\n",
      ">15 0.885 (0.016998)\n",
      ">16 0.891 (0.016652)\n",
      ">17 0.889 (0.015514)\n",
      ">18 0.890 (0.016112)\n",
      ">19 0.891 (0.016029)\n",
      ">20 0.890 (0.015558)\n",
      ">21 0.889 (0.015603)\n"
     ]
    }
   ],
   "source": [
    "#enumerate each number of features\n",
    "results_mi=list()\n",
    "for num_feature in num_features:\n",
    "    #create pipeline\n",
    "    model_mi = LogisticRegression(solver='liblinear')\n",
    "    fs_mi=SelectKBest(score_func=mutual_info_classif,k=num_feature)\n",
    "    pipeline_mi=Pipeline(steps=[('mi',fs_mi),('lr',model_mi)])\n",
    "    #evaluate the model\n",
    "    scores_mi=evaluate_model(pipeline_mi)\n",
    "    results_mi.append(scores_mi)\n",
    "    #summarize the results\n",
    "    print('>%d %.3f (%.6f)' % (num_feature, np.mean(scores_mi),np.std(scores_mi)))"
   ]
  },
  {
   "cell_type": "markdown",
   "id": "8438e0bd",
   "metadata": {},
   "source": [
    "hasil terbaik adalah k = 19"
   ]
  },
  {
   "cell_type": "code",
   "execution_count": 46,
   "id": "bf409816",
   "metadata": {},
   "outputs": [],
   "source": [
    "X_train_sel, X_test_sel, fs_sel = select_features_mi(X_train, y_train, X_test,19)"
   ]
  },
  {
   "cell_type": "code",
   "execution_count": 47,
   "id": "6bbd9d39",
   "metadata": {},
   "outputs": [
    {
     "data": {
      "text/plain": [
       "(1700, 19)"
      ]
     },
     "execution_count": 47,
     "metadata": {},
     "output_type": "execute_result"
    }
   ],
   "source": [
    "X_train_sel.shape"
   ]
  },
  {
   "cell_type": "code",
   "execution_count": 48,
   "id": "c522c846",
   "metadata": {},
   "outputs": [
    {
     "data": {
      "text/plain": [
       "(426, 19)"
      ]
     },
     "execution_count": 48,
     "metadata": {},
     "output_type": "execute_result"
    }
   ],
   "source": [
    "X_test_sel.shape"
   ]
  },
  {
   "cell_type": "code",
   "execution_count": 49,
   "id": "89e834c6",
   "metadata": {},
   "outputs": [
    {
     "name": "stdout",
     "output_type": "stream",
     "text": [
      "[ 0  1  2  3  4  6  7  8  9 10 11 12 13 15 16 17 18 19 20]\n"
     ]
    }
   ],
   "source": [
    "fs_19=SelectKBest(score_func=mutual_info_classif,k=19)\n",
    "fs_19.fit(X_train, y_train)\n",
    "print(fs_19.get_support(indices=True))"
   ]
  },
  {
   "cell_type": "markdown",
   "id": "83a9e292",
   "metadata": {},
   "source": [
    "## Train Model"
   ]
  },
  {
   "cell_type": "markdown",
   "id": "425f10e9",
   "metadata": {},
   "source": [
    "###  <span style='color:red'> KNN (All Feature) </span>"
   ]
  },
  {
   "cell_type": "code",
   "execution_count": 50,
   "id": "c82b1d13",
   "metadata": {},
   "outputs": [],
   "source": [
    "from sklearn.neighbors import KNeighborsClassifier\n",
    "from sklearn.metrics import accuracy_score"
   ]
  },
  {
   "cell_type": "markdown",
   "id": "4df63e24",
   "metadata": {},
   "source": [
    "#### Validation Accuracy "
   ]
  },
  {
   "cell_type": "code",
   "execution_count": 51,
   "id": "e5fb9e1e",
   "metadata": {},
   "outputs": [
    {
     "name": "stdout",
     "output_type": "stream",
     "text": [
      "n_neighbors= 1 , Accuracy = 90.059 (0.011289)\n",
      "n_neighbors= 2 , Accuracy = 89.255 (0.010966)\n",
      "n_neighbors= 3 , Accuracy = 89.549 (0.007652)\n",
      "n_neighbors= 4 , Accuracy = 88.941 (0.010697)\n",
      "n_neighbors= 5 , Accuracy = 89.118 (0.006235)\n",
      "n_neighbors= 6 , Accuracy = 88.471 (0.008538)\n",
      "n_neighbors= 7 , Accuracy = 88.353 (0.009582)\n",
      "n_neighbors= 8 , Accuracy = 88.020 (0.009532)\n",
      "n_neighbors= 9 , Accuracy = 88.157 (0.010754)\n",
      "n_neighbors= 10 , Accuracy = 87.961 (0.009598)\n",
      "n_neighbors= 11 , Accuracy = 87.784 (0.006477)\n",
      "n_neighbors= 12 , Accuracy = 87.667 (0.007712)\n",
      "n_neighbors= 13 , Accuracy = 87.471 (0.009220)\n",
      "n_neighbors= 14 , Accuracy = 87.647 (0.008347)\n",
      "n_neighbors= 15 , Accuracy = 87.451 (0.008663)\n",
      "n_neighbors= 16 , Accuracy = 87.412 (0.010368)\n",
      "n_neighbors= 17 , Accuracy = 87.373 (0.008663)\n",
      "n_neighbors= 18 , Accuracy = 87.373 (0.013287)\n",
      "n_neighbors= 19 , Accuracy = 87.275 (0.012505)\n",
      "n_neighbors= 20 , Accuracy = 87.157 (0.011861)\n",
      "n_neighbors= 21 , Accuracy = 86.980 (0.013287)\n",
      "n_neighbors= 22 , Accuracy = 86.765 (0.013034)\n",
      "n_neighbors= 23 , Accuracy = 86.686 (0.015202)\n",
      "n_neighbors= 24 , Accuracy = 86.843 (0.013117)\n",
      "n_neighbors= 25 , Accuracy = 86.647 (0.013589)\n",
      "n_neighbors= 26 , Accuracy = 86.843 (0.013361)\n",
      "n_neighbors= 27 , Accuracy = 86.549 (0.013059)\n",
      "n_neighbors= 28 , Accuracy = 86.588 (0.012488)\n",
      "n_neighbors= 29 , Accuracy = 86.392 (0.012882)\n",
      "n_neighbors= 30 , Accuracy = 86.588 (0.014819)\n",
      "n_neighbors= 31 , Accuracy = 86.392 (0.013915)\n",
      "n_neighbors= 32 , Accuracy = 86.510 (0.014323)\n",
      "n_neighbors= 33 , Accuracy = 86.275 (0.013664)\n",
      "n_neighbors= 34 , Accuracy = 86.275 (0.014547)\n",
      "n_neighbors= 35 , Accuracy = 86.098 (0.013082)\n",
      "n_neighbors= 36 , Accuracy = 86.176 (0.013758)\n",
      "n_neighbors= 37 , Accuracy = 86.137 (0.013566)\n",
      "n_neighbors= 38 , Accuracy = 86.118 (0.012339)\n",
      "n_neighbors= 39 , Accuracy = 86.078 (0.014112)\n",
      "n_neighbors= 40 , Accuracy = 85.922 (0.011480)\n",
      "n_neighbors= 41 , Accuracy = 86.039 (0.013697)\n",
      "n_neighbors= 42 , Accuracy = 86.039 (0.012900)\n",
      "n_neighbors= 43 , Accuracy = 86.020 (0.013187)\n",
      "n_neighbors= 44 , Accuracy = 85.961 (0.012537)\n",
      "n_neighbors= 45 , Accuracy = 85.725 (0.011856)\n",
      "n_neighbors= 46 , Accuracy = 85.686 (0.011914)\n",
      "n_neighbors= 47 , Accuracy = 85.549 (0.011465)\n",
      "n_neighbors= 48 , Accuracy = 85.275 (0.012615)\n",
      "n_neighbors= 49 , Accuracy = 85.294 (0.011823)\n",
      "n_neighbors= 50 , Accuracy = 85.176 (0.011325)\n"
     ]
    }
   ],
   "source": [
    "accuracy_knn_val=list()\n",
    "n_range = range(1, 51)\n",
    "for n in n_range :\n",
    "    knn = KNeighborsClassifier(n_neighbors=n)\n",
    "    #evaluate the model\n",
    "    scores=evaluate_model(knn)\n",
    "    accuracy_knn_val.append(np.mean(scores)*100)\n",
    "    #summarize the results\n",
    "    print('n_neighbors= %d , Accuracy = %.3f (%.6f)' % (n, np.mean(scores)*100,np.std(scores)))"
   ]
  },
  {
   "cell_type": "code",
   "execution_count": 52,
   "id": "9ecbb511",
   "metadata": {},
   "outputs": [
    {
     "data": {
      "image/png": "[encoded data removed]",
      "text/plain": [
       "<Figure size 1080x360 with 1 Axes>"
      ]
     },
     "metadata": {
      "needs_background": "light"
     },
     "output_type": "display_data"
    }
   ],
   "source": [
    "#plot grafik perbandingan akurasi\n",
    "plt.figure(figsize=(15,5)) \n",
    "plt.plot(n_range,accuracy_knn_val)\n",
    "plt.xticks(range(1,51))\n",
    "plt.title('Grafik Akurasi(Validasi) KNN(All Feature)')\n",
    "plt.xlabel('n_neighbors')\n",
    "plt.ylabel('Akurasi')\n",
    "plt.grid()"
   ]
  },
  {
   "cell_type": "markdown",
   "id": "0842f887",
   "metadata": {},
   "source": [
    "Dipilih parameter n_neighbors = 1"
   ]
  },
  {
   "cell_type": "markdown",
   "id": "c5d77bb6",
   "metadata": {},
   "source": [
    "# "
   ]
  },
  {
   "cell_type": "markdown",
   "id": "92cd73af",
   "metadata": {},
   "source": [
    "#### Test Score"
   ]
  },
  {
   "cell_type": "code",
   "execution_count": 53,
   "id": "423c8e2d",
   "metadata": {},
   "outputs": [
    {
     "name": "stdout",
     "output_type": "stream",
     "text": [
      "Accuracy: 90.376 \n",
      "Precision: 85.331  \n",
      "Recall: 80.085  \n",
      "F1 Score: 82.405  \n"
     ]
    }
   ],
   "source": [
    "model_knn = KNeighborsClassifier(n_neighbors=1)\n",
    "model_knn.fit(X_train, y_train)\n",
    "# evaluate the model\n",
    "yhat_knn = model_knn.predict(X_test)\n",
    "# evaluate predictions\n",
    "accuracy = accuracy_score(y_test, yhat_knn)\n",
    "precision = precision_score(y_test, yhat_knn,average='macro')\n",
    "recall = recall_score(y_test, yhat_knn,average='macro')\n",
    "f1 =  f1_score(y_test, yhat_knn,average='macro')\n",
    "print('Accuracy: %.3f ' % (accuracy*100))\n",
    "print('Precision: %.3f  ' % (precision*100))\n",
    "print('Recall: %.3f  ' % (recall*100))\n",
    "print('F1 Score: %.3f  ' % (f1*100))"
   ]
  },
  {
   "cell_type": "code",
   "execution_count": 54,
   "id": "ed28c7b9",
   "metadata": {},
   "outputs": [
    {
     "data": {
      "text/plain": [
       "Text(33.0, 0.5, 'True Value')"
      ]
     },
     "execution_count": 54,
     "metadata": {},
     "output_type": "execute_result"
    },
    {
     "data": {
      "image/png": "[encoded data removed]",
      "text/plain": [
       "<Figure size 432x288 with 2 Axes>"
      ]
     },
     "metadata": {
      "needs_background": "light"
     },
     "output_type": "display_data"
    }
   ],
   "source": [
    "matrix_knn=confusion_matrix(y_test, yhat_knn)\n",
    "sns.heatmap(matrix_knn, annot=True, fmt=\"d\");\n",
    "plt.xlabel(\"Predicted Value\")\n",
    "plt.ylabel(\"True Value\")"
   ]
  },
  {
   "cell_type": "markdown",
   "id": "32ba33c5",
   "metadata": {},
   "source": [
    "###  <span style='color:red'> KNN (Selected Feature) </span>"
   ]
  },
  {
   "cell_type": "markdown",
   "id": "59990f0f",
   "metadata": {},
   "source": [
    "#### Validation Accuracy"
   ]
  },
  {
   "cell_type": "code",
   "execution_count": 55,
   "id": "d200a72a",
   "metadata": {},
   "outputs": [
    {
     "name": "stdout",
     "output_type": "stream",
     "text": [
      "n_neighbors= 1 , Accuracy = 90.020 (0.015710)\n",
      "n_neighbors= 2 , Accuracy = 89.176 (0.012151)\n",
      "n_neighbors= 3 , Accuracy = 89.647 (0.010435)\n",
      "n_neighbors= 4 , Accuracy = 89.235 (0.010484)\n",
      "n_neighbors= 5 , Accuracy = 89.451 (0.006287)\n",
      "n_neighbors= 6 , Accuracy = 88.647 (0.009660)\n",
      "n_neighbors= 7 , Accuracy = 88.686 (0.007890)\n",
      "n_neighbors= 8 , Accuracy = 88.255 (0.009676)\n",
      "n_neighbors= 9 , Accuracy = 88.137 (0.009676)\n",
      "n_neighbors= 10 , Accuracy = 88.020 (0.009237)\n",
      "n_neighbors= 11 , Accuracy = 87.902 (0.008670)\n",
      "n_neighbors= 12 , Accuracy = 87.765 (0.007921)\n",
      "n_neighbors= 13 , Accuracy = 87.490 (0.009104)\n",
      "n_neighbors= 14 , Accuracy = 87.608 (0.009330)\n",
      "n_neighbors= 15 , Accuracy = 87.608 (0.008502)\n",
      "n_neighbors= 16 , Accuracy = 87.275 (0.011221)\n",
      "n_neighbors= 17 , Accuracy = 87.235 (0.008381)\n",
      "n_neighbors= 18 , Accuracy = 87.275 (0.014391)\n",
      "n_neighbors= 19 , Accuracy = 87.235 (0.013555)\n",
      "n_neighbors= 20 , Accuracy = 87.196 (0.014034)\n",
      "n_neighbors= 21 , Accuracy = 87.059 (0.012707)\n",
      "n_neighbors= 22 , Accuracy = 86.980 (0.013494)\n",
      "n_neighbors= 23 , Accuracy = 86.863 (0.014210)\n",
      "n_neighbors= 24 , Accuracy = 87.020 (0.013613)\n",
      "n_neighbors= 25 , Accuracy = 86.961 (0.012760)\n",
      "n_neighbors= 26 , Accuracy = 86.863 (0.013130)\n",
      "n_neighbors= 27 , Accuracy = 86.863 (0.013748)\n",
      "n_neighbors= 28 , Accuracy = 86.843 (0.012688)\n",
      "n_neighbors= 29 , Accuracy = 86.588 (0.013953)\n",
      "n_neighbors= 30 , Accuracy = 86.647 (0.013521)\n",
      "n_neighbors= 31 , Accuracy = 86.608 (0.013361)\n",
      "n_neighbors= 32 , Accuracy = 86.647 (0.012041)\n",
      "n_neighbors= 33 , Accuracy = 86.529 (0.013623)\n",
      "n_neighbors= 34 , Accuracy = 86.549 (0.012295)\n",
      "n_neighbors= 35 , Accuracy = 86.333 (0.013187)\n",
      "n_neighbors= 36 , Accuracy = 86.333 (0.013735)\n",
      "n_neighbors= 37 , Accuracy = 86.235 (0.013328)\n",
      "n_neighbors= 38 , Accuracy = 86.314 (0.013235)\n",
      "n_neighbors= 39 , Accuracy = 86.118 (0.012888)\n",
      "n_neighbors= 40 , Accuracy = 86.176 (0.013418)\n",
      "n_neighbors= 41 , Accuracy = 86.157 (0.013511)\n",
      "n_neighbors= 42 , Accuracy = 85.980 (0.014359)\n",
      "n_neighbors= 43 , Accuracy = 85.941 (0.014023)\n",
      "n_neighbors= 44 , Accuracy = 85.784 (0.013222)\n",
      "n_neighbors= 45 , Accuracy = 85.627 (0.012832)\n",
      "n_neighbors= 46 , Accuracy = 85.431 (0.013532)\n",
      "n_neighbors= 47 , Accuracy = 85.451 (0.013781)\n",
      "n_neighbors= 48 , Accuracy = 85.137 (0.014275)\n",
      "n_neighbors= 49 , Accuracy = 85.235 (0.015039)\n",
      "n_neighbors= 50 , Accuracy = 85.000 (0.014187)\n"
     ]
    }
   ],
   "source": [
    "accuracy_knn_val=list()\n",
    "n_range = range(1, 51)\n",
    "for n in n_range :\n",
    "    knn = KNeighborsClassifier(n_neighbors=n)\n",
    "    #evaluate the model\n",
    "    scores=evaluate_model_sel(knn)\n",
    "    accuracy_knn_val.append(np.mean(scores)*100)\n",
    "    #summarize the results\n",
    "    print('n_neighbors= %d , Accuracy = %.3f (%.6f)' % (n, np.mean(scores)*100,np.std(scores)))"
   ]
  },
  {
   "cell_type": "code",
   "execution_count": 56,
   "id": "7c286d00",
   "metadata": {},
   "outputs": [
    {
     "data": {
      "image/png": "[encoded data removed]",
      "text/plain": [
       "<Figure size 1080x360 with 1 Axes>"
      ]
     },
     "metadata": {
      "needs_background": "light"
     },
     "output_type": "display_data"
    }
   ],
   "source": [
    "#plot grafik perbandingan akurasi\n",
    "plt.figure(figsize=(15,5)) \n",
    "plt.plot(n_range,accuracy_knn_val)\n",
    "plt.xticks(range(1,51))\n",
    "plt.title('Grafik Akurasi(Validasi) KNN(Selected Feature)')\n",
    "plt.xlabel('n_neighbors')\n",
    "plt.ylabel('Akurasi')\n",
    "plt.grid()"
   ]
  },
  {
   "cell_type": "markdown",
   "id": "5e4d5762",
   "metadata": {},
   "source": [
    "Dipilih parameter n_neighbors = 1"
   ]
  },
  {
   "cell_type": "markdown",
   "id": "6cb6f1b9",
   "metadata": {},
   "source": [
    "#### Test Score"
   ]
  },
  {
   "cell_type": "code",
   "execution_count": 57,
   "id": "653bbd0c",
   "metadata": {},
   "outputs": [
    {
     "name": "stdout",
     "output_type": "stream",
     "text": [
      "Accuracy: 90.376 \n",
      "Precision: 85.087  \n",
      "Recall: 81.576  \n",
      "F1 Score: 83.068  \n"
     ]
    }
   ],
   "source": [
    "model_knn = KNeighborsClassifier(n_neighbors=1)\n",
    "model_knn.fit(X_train_sel, y_train)\n",
    "# evaluate the model\n",
    "yhat_knn = model_knn.predict(X_test_sel)\n",
    "# evaluate predictions\n",
    "accuracy = accuracy_score(y_test, yhat_knn)\n",
    "precision = precision_score(y_test, yhat_knn,average='macro')\n",
    "recall = recall_score(y_test, yhat_knn,average='macro')\n",
    "f1 =  f1_score(y_test, yhat_knn,average='macro')\n",
    "print('Accuracy: %.3f ' % (accuracy*100))\n",
    "print('Precision: %.3f  ' % (precision*100))\n",
    "print('Recall: %.3f  ' % (recall*100))\n",
    "print('F1 Score: %.3f  ' % (f1*100))"
   ]
  },
  {
   "cell_type": "code",
   "execution_count": 58,
   "id": "02877d17",
   "metadata": {},
   "outputs": [
    {
     "data": {
      "text/plain": [
       "Text(33.0, 0.5, 'True Value')"
      ]
     },
     "execution_count": 58,
     "metadata": {},
     "output_type": "execute_result"
    },
    {
     "data": {
      "image/png": "[encoded data removed]",
      "text/plain": [
       "<Figure size 432x288 with 2 Axes>"
      ]
     },
     "metadata": {
      "needs_background": "light"
     },
     "output_type": "display_data"
    }
   ],
   "source": [
    "matrix_knn=confusion_matrix(y_test, yhat_knn)\n",
    "sns.heatmap(matrix_knn, annot=True, fmt=\"d\");\n",
    "plt.xlabel(\"Predicted Value\")\n",
    "plt.ylabel(\"True Value\")"
   ]
  },
  {
   "cell_type": "markdown",
   "id": "b48a85a1",
   "metadata": {},
   "source": [
    "###  <span style='color:red'> Decision Tree (All Feature) </span>"
   ]
  },
  {
   "cell_type": "code",
   "execution_count": 59,
   "id": "e3aa855c",
   "metadata": {},
   "outputs": [],
   "source": [
    "from sklearn.tree import DecisionTreeClassifier"
   ]
  },
  {
   "cell_type": "markdown",
   "id": "e3a62bbf",
   "metadata": {},
   "source": [
    "#### Validation Accuracy "
   ]
  },
  {
   "cell_type": "code",
   "execution_count": 60,
   "id": "6e93749c",
   "metadata": {},
   "outputs": [
    {
     "name": "stdout",
     "output_type": "stream",
     "text": [
      "max_depth= 1 , Accuracy = 78.373 (0.006405)\n",
      "max_depth= 2 , Accuracy = 84.863 (0.011008)\n",
      "max_depth= 3 , Accuracy = 89.706 (0.010831)\n",
      "max_depth= 4 , Accuracy = 90.941 (0.008456)\n",
      "max_depth= 5 , Accuracy = 91.608 (0.009859)\n",
      "max_depth= 6 , Accuracy = 92.412 (0.008044)\n",
      "max_depth= 7 , Accuracy = 92.098 (0.006755)\n",
      "max_depth= 8 , Accuracy = 92.078 (0.009622)\n",
      "max_depth= 9 , Accuracy = 92.255 (0.008289)\n",
      "max_depth= 10 , Accuracy = 92.216 (0.008006)\n",
      "max_depth= 11 , Accuracy = 92.216 (0.009676)\n",
      "max_depth= 12 , Accuracy = 92.059 (0.010080)\n",
      "max_depth= 13 , Accuracy = 92.137 (0.009483)\n",
      "max_depth= 14 , Accuracy = 92.235 (0.010166)\n",
      "max_depth= 15 , Accuracy = 92.314 (0.010668)\n",
      "max_depth= 16 , Accuracy = 92.314 (0.010668)\n",
      "max_depth= 17 , Accuracy = 92.314 (0.010668)\n",
      "max_depth= 18 , Accuracy = 92.314 (0.010668)\n",
      "max_depth= 19 , Accuracy = 92.314 (0.010668)\n",
      "max_depth= 20 , Accuracy = 92.314 (0.010668)\n",
      "max_depth= 21 , Accuracy = 92.314 (0.010668)\n",
      "max_depth= 22 , Accuracy = 92.314 (0.010668)\n",
      "max_depth= 23 , Accuracy = 92.314 (0.010668)\n",
      "max_depth= 24 , Accuracy = 92.314 (0.010668)\n",
      "max_depth= 25 , Accuracy = 92.314 (0.010668)\n",
      "max_depth= 26 , Accuracy = 92.314 (0.010668)\n",
      "max_depth= 27 , Accuracy = 92.314 (0.010668)\n",
      "max_depth= 28 , Accuracy = 92.314 (0.010668)\n",
      "max_depth= 29 , Accuracy = 92.314 (0.010668)\n",
      "max_depth= 30 , Accuracy = 92.314 (0.010668)\n",
      "max_depth= 31 , Accuracy = 92.314 (0.010668)\n",
      "max_depth= 32 , Accuracy = 92.314 (0.010668)\n",
      "max_depth= 33 , Accuracy = 92.314 (0.010668)\n",
      "max_depth= 34 , Accuracy = 92.314 (0.010668)\n",
      "max_depth= 35 , Accuracy = 92.314 (0.010668)\n",
      "max_depth= 36 , Accuracy = 92.314 (0.010668)\n",
      "max_depth= 37 , Accuracy = 92.314 (0.010668)\n",
      "max_depth= 38 , Accuracy = 92.314 (0.010668)\n",
      "max_depth= 39 , Accuracy = 92.314 (0.010668)\n",
      "max_depth= 40 , Accuracy = 92.314 (0.010668)\n",
      "max_depth= 41 , Accuracy = 92.314 (0.010668)\n",
      "max_depth= 42 , Accuracy = 92.314 (0.010668)\n",
      "max_depth= 43 , Accuracy = 92.314 (0.010668)\n",
      "max_depth= 44 , Accuracy = 92.314 (0.010668)\n",
      "max_depth= 45 , Accuracy = 92.314 (0.010668)\n",
      "max_depth= 46 , Accuracy = 92.314 (0.010668)\n",
      "max_depth= 47 , Accuracy = 92.314 (0.010668)\n",
      "max_depth= 48 , Accuracy = 92.314 (0.010668)\n",
      "max_depth= 49 , Accuracy = 92.314 (0.010668)\n",
      "max_depth= 50 , Accuracy = 92.314 (0.010668)\n"
     ]
    }
   ],
   "source": [
    "accuracy_tree_val=list()\n",
    "n_range = range(1, 51)\n",
    "for n in n_range :\n",
    "    tree = DecisionTreeClassifier(criterion='entropy',max_depth=n,random_state=1)\n",
    "    #evaluate the model\n",
    "    scores=evaluate_model(tree)\n",
    "    accuracy_tree_val.append(np.mean(scores)*100)\n",
    "    #summarize the results\n",
    "    print('max_depth= %d , Accuracy = %.3f (%.6f)' % (n, np.mean(scores)*100,np.std(scores)))"
   ]
  },
  {
   "cell_type": "code",
   "execution_count": 61,
   "id": "1a053324",
   "metadata": {},
   "outputs": [
    {
     "data": {
      "image/png": "[encoded data removed]",
      "text/plain": [
       "<Figure size 1080x360 with 1 Axes>"
      ]
     },
     "metadata": {
      "needs_background": "light"
     },
     "output_type": "display_data"
    }
   ],
   "source": [
    "#plot grafik perbandingan akurasi\n",
    "plt.figure(figsize=(15,5)) \n",
    "plt.plot(n_range,accuracy_tree_val)\n",
    "plt.xticks(range(1,51))\n",
    "plt.title('Grafik Akurasi(Validasi) Decision Tree(All Feature)')\n",
    "plt.xlabel('max_depth')\n",
    "plt.ylabel('Akurasi')\n",
    "plt.grid()"
   ]
  },
  {
   "cell_type": "markdown",
   "id": "02cfbaac",
   "metadata": {},
   "source": [
    "Dipilih parameter max_depth = 6"
   ]
  },
  {
   "cell_type": "markdown",
   "id": "0bf63eea",
   "metadata": {},
   "source": [
    "#### Test Score"
   ]
  },
  {
   "cell_type": "code",
   "execution_count": 62,
   "id": "3d731b86",
   "metadata": {},
   "outputs": [
    {
     "name": "stdout",
     "output_type": "stream",
     "text": [
      "Accuracy: 92.019 \n",
      "Precision: 91.390  \n",
      "Recall: 83.619  \n",
      "F1 Score: 86.520  \n"
     ]
    }
   ],
   "source": [
    "model_tree = DecisionTreeClassifier(criterion='entropy',max_depth=6,random_state=1)\n",
    "model_tree.fit(X_train, y_train)\n",
    "# evaluate the model\n",
    "yhat_tree = model_tree.predict(X_test)\n",
    "# evaluate predictions\n",
    "accuracy = accuracy_score(y_test, yhat_tree)\n",
    "precision = precision_score(y_test, yhat_tree,average='macro')\n",
    "recall = recall_score(y_test, yhat_tree,average='macro')\n",
    "f1 =  f1_score(y_test, yhat_tree,average='macro')\n",
    "print('Accuracy: %.3f ' % (accuracy*100))\n",
    "print('Precision: %.3f  ' % (precision*100))\n",
    "print('Recall: %.3f  ' % (recall*100))\n",
    "print('F1 Score: %.3f  ' % (f1*100))"
   ]
  },
  {
   "cell_type": "code",
   "execution_count": 63,
   "id": "9c6b2078",
   "metadata": {},
   "outputs": [
    {
     "data": {
      "text/plain": [
       "Text(33.0, 0.5, 'True Value')"
      ]
     },
     "execution_count": 63,
     "metadata": {},
     "output_type": "execute_result"
    },
    {
     "data": {
      "image/png": "[encoded data removed]",
      "text/plain": [
       "<Figure size 432x288 with 2 Axes>"
      ]
     },
     "metadata": {
      "needs_background": "light"
     },
     "output_type": "display_data"
    }
   ],
   "source": [
    "matrix_tree=confusion_matrix(y_test, yhat_tree)\n",
    "sns.heatmap(matrix_tree, annot=True, fmt=\"d\");\n",
    "plt.xlabel(\"Predicted Value\")\n",
    "plt.ylabel(\"True Value\")"
   ]
  },
  {
   "cell_type": "markdown",
   "id": "47639715",
   "metadata": {},
   "source": [
    "###  <span style='color:red'> Decision Tree (Selected Feature) </span>"
   ]
  },
  {
   "cell_type": "markdown",
   "id": "9c55d9ac",
   "metadata": {},
   "source": [
    "#### Validation Accuracy"
   ]
  },
  {
   "cell_type": "code",
   "execution_count": 64,
   "id": "6faf9e9e",
   "metadata": {},
   "outputs": [
    {
     "name": "stdout",
     "output_type": "stream",
     "text": [
      "max_depth= 1 , Accuracy = 78.373 (0.006405)\n",
      "max_depth= 2 , Accuracy = 84.863 (0.011008)\n",
      "max_depth= 3 , Accuracy = 89.784 (0.011384)\n",
      "max_depth= 4 , Accuracy = 91.020 (0.009550)\n",
      "max_depth= 5 , Accuracy = 91.588 (0.008705)\n",
      "max_depth= 6 , Accuracy = 92.235 (0.007188)\n",
      "max_depth= 7 , Accuracy = 92.275 (0.007242)\n",
      "max_depth= 8 , Accuracy = 91.941 (0.008758)\n",
      "max_depth= 9 , Accuracy = 92.373 (0.012688)\n",
      "max_depth= 10 , Accuracy = 92.314 (0.009379)\n",
      "max_depth= 11 , Accuracy = 92.000 (0.011243)\n",
      "max_depth= 12 , Accuracy = 92.137 (0.011938)\n",
      "max_depth= 13 , Accuracy = 92.137 (0.012356)\n",
      "max_depth= 14 , Accuracy = 92.137 (0.012796)\n",
      "max_depth= 15 , Accuracy = 92.176 (0.012892)\n",
      "max_depth= 16 , Accuracy = 92.176 (0.012892)\n",
      "max_depth= 17 , Accuracy = 92.176 (0.012892)\n",
      "max_depth= 18 , Accuracy = 92.176 (0.012892)\n",
      "max_depth= 19 , Accuracy = 92.176 (0.012892)\n",
      "max_depth= 20 , Accuracy = 92.176 (0.012892)\n",
      "max_depth= 21 , Accuracy = 92.176 (0.012892)\n",
      "max_depth= 22 , Accuracy = 92.176 (0.012892)\n",
      "max_depth= 23 , Accuracy = 92.176 (0.012892)\n",
      "max_depth= 24 , Accuracy = 92.176 (0.012892)\n",
      "max_depth= 25 , Accuracy = 92.176 (0.012892)\n",
      "max_depth= 26 , Accuracy = 92.176 (0.012892)\n",
      "max_depth= 27 , Accuracy = 92.176 (0.012892)\n",
      "max_depth= 28 , Accuracy = 92.176 (0.012892)\n",
      "max_depth= 29 , Accuracy = 92.176 (0.012892)\n",
      "max_depth= 30 , Accuracy = 92.176 (0.012892)\n",
      "max_depth= 31 , Accuracy = 92.176 (0.012892)\n",
      "max_depth= 32 , Accuracy = 92.176 (0.012892)\n",
      "max_depth= 33 , Accuracy = 92.176 (0.012892)\n",
      "max_depth= 34 , Accuracy = 92.176 (0.012892)\n",
      "max_depth= 35 , Accuracy = 92.176 (0.012892)\n",
      "max_depth= 36 , Accuracy = 92.176 (0.012892)\n",
      "max_depth= 37 , Accuracy = 92.176 (0.012892)\n",
      "max_depth= 38 , Accuracy = 92.176 (0.012892)\n",
      "max_depth= 39 , Accuracy = 92.176 (0.012892)\n",
      "max_depth= 40 , Accuracy = 92.176 (0.012892)\n",
      "max_depth= 41 , Accuracy = 92.176 (0.012892)\n",
      "max_depth= 42 , Accuracy = 92.176 (0.012892)\n",
      "max_depth= 43 , Accuracy = 92.176 (0.012892)\n",
      "max_depth= 44 , Accuracy = 92.176 (0.012892)\n",
      "max_depth= 45 , Accuracy = 92.176 (0.012892)\n",
      "max_depth= 46 , Accuracy = 92.176 (0.012892)\n",
      "max_depth= 47 , Accuracy = 92.176 (0.012892)\n",
      "max_depth= 48 , Accuracy = 92.176 (0.012892)\n",
      "max_depth= 49 , Accuracy = 92.176 (0.012892)\n",
      "max_depth= 50 , Accuracy = 92.176 (0.012892)\n"
     ]
    }
   ],
   "source": [
    "accuracy_tree_val=list()\n",
    "n_range = range(1, 51)\n",
    "for n in n_range :\n",
    "    tree = DecisionTreeClassifier(criterion='entropy',max_depth=n,random_state=1)                                                                                                                                                                                                                                                                                                                                                                                                                                                                                                                                                                                                                                                                                                                                                                                                                                                                                                                                                                                                                                                                                                                                                                                                                                                                                                                                                                                                                                                                                                                                                                                                                                                                                                                                                                                                                                                                                                                                                                                                                                                                                                                                                                                                                                                                                                                                                                                                                                                                                                                                                                                                                                                                                                                                                                                                                                                                                                                                                                                                                                                                                                                                                                                                                                                                                                                                                                                                                                                                                                                                                                                                                                                                                                                                                                                                                                                                                                                                                                                                                                                                                                                                                                                                                                                                                                                                                                                                                                                                                                                                                                                                                                                                                                                                                                                                                                                                                                                                                                                                                                                                                                                                                                                     \n",
    "    #evaluate the model\n",
    "    scores=evaluate_model_sel(tree)\n",
    "    accuracy_tree_val.append(np.mean(scores)*100)\n",
    "    #summarize the results\n",
    "    print('max_depth= %d , Accuracy = %.3f (%.6f)' % (n, np.mean(scores)*100,np.std(scores)))"
   ]
  },
  {
   "cell_type": "code",
   "execution_count": 65,
   "id": "e39c9aaa",
   "metadata": {},
   "outputs": [
    {
     "data": {
      "image/png": "[encoded data removed]",
      "text/plain": [
       "<Figure size 1080x360 with 1 Axes>"
      ]
     },
     "metadata": {
      "needs_background": "light"
     },
     "output_type": "display_data"
    }
   ],
   "source": [
    "#plot grafik perbandingan akurasi                                 \n",
    "plt.figure(figsize=(15,5))                                                                                                                                                                                                                                                                                                                                                                                                                                             \n",
    "plt.plot(n_range,accuracy_tree_val)\n",
    "plt.xticks(range(1,51))\n",
    "plt.title('Grafik Akurasi(Validasi) Decision Tree(Selected Feature)')\n",
    "plt.xlabel('max_depth')\n",
    "plt.ylabel('Akurasi')\n",
    "plt.grid()"
   ]
  },
  {
   "cell_type": "markdown",
   "id": "6d9755c5",
   "metadata": {},
   "source": [
    "Dipilih parameter max_depth = 6"
   ]
  },
  {
   "cell_type": "markdown",
   "id": "756bae70",
   "metadata": {},
   "source": [
    "#### Test Score"
   ]
  },
  {
   "cell_type": "code",
   "execution_count": 66,
   "id": "18d2e480",
   "metadata": {},
   "outputs": [
    {
     "name": "stdout",
     "output_type": "stream",
     "text": [
      "Accuracy: 92.254 \n",
      "Precision: 92.074  \n",
      "Recall: 83.721  \n",
      "F1 Score: 86.790  \n"
     ]
    }
   ],
   "source": [
    "model_tree = DecisionTreeClassifier(criterion='entropy',max_depth=6,random_state=1)\n",
    "model_tree.fit(X_train_sel, y_train)\n",
    "# evaluate the model\n",
    "yhat_tree = model_tree.predict(X_test_sel)\n",
    "# evaluate predictions\n",
    "accuracy = accuracy_score(y_test, yhat_tree)\n",
    "precision = precision_score(y_test, yhat_tree,average='macro')\n",
    "recall = recall_score(y_test, yhat_tree,average='macro')\n",
    "f1 =  f1_score(y_test, yhat_tree,average='macro')\n",
    "print('Accuracy: %.3f ' % (accuracy*100))\n",
    "print('Precision: %.3f  ' % (precision*100))\n",
    "print('Recall: %.3f  ' % (recall*100))\n",
    "print('F1 Score: %.3f  ' % (f1*100))"
   ]
  },
  {
   "cell_type": "code",
   "execution_count": 67,
   "id": "f27c66ed",
   "metadata": {},
   "outputs": [
    {
     "data": {
      "text/plain": [
       "Text(33.0, 0.5, 'True Value')"
      ]
     },
     "execution_count": 67,
     "metadata": {},
     "output_type": "execute_result"
    },
    {
     "data": {
      "image/png": "[encoded data removed]",
      "text/plain": [
       "<Figure size 432x288 with 2 Axes>"
      ]
     },
     "metadata": {
      "needs_background": "light"
     },
     "output_type": "display_data"
    }
   ],
   "source": [
    "matrix_tree=confusion_matrix(y_test, yhat_tree)\n",
    "sns.heatmap(matrix_tree, annot=True, fmt=\"d\");\n",
    "plt.xlabel(\"Predicted Value\")\n",
    "plt.ylabel(\"True Value\")"
   ]
  },
  {
   "cell_type": "markdown",
   "id": "55ea5ef3",
   "metadata": {},
   "source": [
    "###  <span style='color:red'> Random Forest (All Feature) </span>"
   ]
  },
  {
   "cell_type": "code",
   "execution_count": 68,
   "id": "acec9f8a",
   "metadata": {},
   "outputs": [],
   "source": [
    "from sklearn.ensemble import RandomForestClassifier"
   ]
  },
  {
   "cell_type": "markdown",
   "id": "60715fea",
   "metadata": {},
   "source": [
    "#### Validation Accuracy"
   ]
  },
  {
   "cell_type": "code",
   "execution_count": 69,
   "id": "5fe75aff",
   "metadata": {},
   "outputs": [
    {
     "name": "stdout",
     "output_type": "stream",
     "text": [
      "max_depth= 1 , Accuracy = 78.255 (0.002623)\n",
      "max_depth= 2 , Accuracy = 84.745 (0.015573)\n",
      "max_depth= 3 , Accuracy = 89.667 (0.010455)\n",
      "max_depth= 4 , Accuracy = 91.196 (0.008932)\n",
      "max_depth= 5 , Accuracy = 91.824 (0.009418)\n",
      "max_depth= 6 , Accuracy = 92.706 (0.007804)\n",
      "max_depth= 7 , Accuracy = 93.216 (0.009453)\n",
      "max_depth= 8 , Accuracy = 93.824 (0.008758)\n",
      "max_depth= 9 , Accuracy = 94.196 (0.008170)\n",
      "max_depth= 10 , Accuracy = 94.275 (0.008502)\n",
      "max_depth= 11 , Accuracy = 94.098 (0.009336)\n",
      "max_depth= 12 , Accuracy = 94.137 (0.009723)\n",
      "max_depth= 13 , Accuracy = 94.157 (0.008899)\n",
      "max_depth= 14 , Accuracy = 94.118 (0.009558)\n",
      "max_depth= 15 , Accuracy = 94.098 (0.009085)\n",
      "max_depth= 16 , Accuracy = 94.176 (0.008966)\n",
      "max_depth= 17 , Accuracy = 94.157 (0.009054)\n",
      "max_depth= 18 , Accuracy = 94.098 (0.009035)\n",
      "max_depth= 19 , Accuracy = 94.118 (0.009011)\n",
      "max_depth= 20 , Accuracy = 94.118 (0.009011)\n",
      "max_depth= 21 , Accuracy = 94.118 (0.009011)\n",
      "max_depth= 22 , Accuracy = 94.118 (0.009011)\n",
      "max_depth= 23 , Accuracy = 94.118 (0.009011)\n",
      "max_depth= 24 , Accuracy = 94.118 (0.009011)\n",
      "max_depth= 25 , Accuracy = 94.118 (0.009011)\n",
      "max_depth= 26 , Accuracy = 94.118 (0.009011)\n",
      "max_depth= 27 , Accuracy = 94.118 (0.009011)\n",
      "max_depth= 28 , Accuracy = 94.118 (0.009011)\n",
      "max_depth= 29 , Accuracy = 94.118 (0.009011)\n",
      "max_depth= 30 , Accuracy = 94.118 (0.009011)\n",
      "max_depth= 31 , Accuracy = 94.118 (0.009011)\n",
      "max_depth= 32 , Accuracy = 94.118 (0.009011)\n",
      "max_depth= 33 , Accuracy = 94.118 (0.009011)\n",
      "max_depth= 34 , Accuracy = 94.118 (0.009011)\n",
      "max_depth= 35 , Accuracy = 94.118 (0.009011)\n",
      "max_depth= 36 , Accuracy = 94.118 (0.009011)\n",
      "max_depth= 37 , Accuracy = 94.118 (0.009011)\n",
      "max_depth= 38 , Accuracy = 94.118 (0.009011)\n",
      "max_depth= 39 , Accuracy = 94.118 (0.009011)\n",
      "max_depth= 40 , Accuracy = 94.118 (0.009011)\n",
      "max_depth= 41 , Accuracy = 94.118 (0.009011)\n",
      "max_depth= 42 , Accuracy = 94.118 (0.009011)\n",
      "max_depth= 43 , Accuracy = 94.118 (0.009011)\n",
      "max_depth= 44 , Accuracy = 94.118 (0.009011)\n",
      "max_depth= 45 , Accuracy = 94.118 (0.009011)\n",
      "max_depth= 46 , Accuracy = 94.118 (0.009011)\n",
      "max_depth= 47 , Accuracy = 94.118 (0.009011)\n",
      "max_depth= 48 , Accuracy = 94.118 (0.009011)\n",
      "max_depth= 49 , Accuracy = 94.118 (0.009011)\n",
      "max_depth= 50 , Accuracy = 94.118 (0.009011)\n"
     ]
    }
   ],
   "source": [
    "accuracy_forest_val=list()\n",
    "n_range = range(1, 51)\n",
    "for n in n_range :\n",
    "    forest = RandomForestClassifier(criterion='entropy',max_depth=n,random_state=1)\n",
    "    #evaluate the model\n",
    "    scores=evaluate_model(forest)\n",
    "    accuracy_forest_val.append(np.mean(scores)*100)\n",
    "    #summarize the results\n",
    "    print('max_depth= %d , Accuracy = %.3f (%.6f)' % (n, np.mean(scores)*100,np.std(scores)))"
   ]
  },
  {
   "cell_type": "code",
   "execution_count": 70,
   "id": "44ba5e11",
   "metadata": {},
   "outputs": [
    {
     "data": {
      "image/png": "[encoded data removed]",
      "text/plain": [
       "<Figure size 1080x360 with 1 Axes>"
      ]
     },
     "metadata": {
      "needs_background": "light"
     },
     "output_type": "display_data"
    }
   ],
   "source": [
    "#plot grafik perbandingan akurasi\n",
    "plt.figure(figsize=(15,5)) \n",
    "plt.plot(n_range,accuracy_forest_val)\n",
    "plt.xticks(range(1,51))\n",
    "plt.title('Grafik Akurasi(Validasi) Random Forest(All Feature)')\n",
    "plt.xlabel('max_depth')\n",
    "plt.ylabel('Akurasi')\n",
    "plt.grid()"
   ]
  },
  {
   "cell_type": "markdown",
   "id": "d56258fe",
   "metadata": {},
   "source": [
    "Dipilh paramater max_depth= 10"
   ]
  },
  {
   "cell_type": "markdown",
   "id": "c8794ff9",
   "metadata": {},
   "source": [
    "#### Test Score"
   ]
  },
  {
   "cell_type": "code",
   "execution_count": 71,
   "id": "7fb07dcc",
   "metadata": {},
   "outputs": [
    {
     "name": "stdout",
     "output_type": "stream",
     "text": [
      "Accuracy: 93.192 \n",
      "Precision: 90.883  \n",
      "Recall: 83.803  \n",
      "F1 Score: 86.827  \n"
     ]
    }
   ],
   "source": [
    "model_forest = RandomForestClassifier(criterion='entropy',max_depth=10,random_state=1)\n",
    "model_forest.fit(X_train, y_train)\n",
    "# evaluate the model\n",
    "yhat_forest = model_forest.predict(X_test)\n",
    "# evaluate predictions\n",
    "accuracy = accuracy_score(y_test, yhat_forest)\n",
    "precision = precision_score(y_test, yhat_forest,average='macro')\n",
    "recall = recall_score(y_test, yhat_forest,average='macro')\n",
    "f1 =  f1_score(y_test, yhat_forest,average='macro')\n",
    "print('Accuracy: %.3f ' % (accuracy*100))\n",
    "print('Precision: %.3f  ' % (precision*100))\n",
    "print('Recall: %.3f  ' % (recall*100))\n",
    "print('F1 Score: %.3f  ' % (f1*100))"
   ]
  },
  {
   "cell_type": "code",
   "execution_count": 72,
   "id": "fb87c157",
   "metadata": {},
   "outputs": [
    {
     "data": {
      "text/plain": [
       "Text(33.0, 0.5, 'True Value')"
      ]
     },
     "execution_count": 72,
     "metadata": {},
     "output_type": "execute_result"
    },
    {
     "data": {
      "image/png": "[encoded data removed]",
      "text/plain": [
       "<Figure size 432x288 with 2 Axes>"
      ]
     },
     "metadata": {
      "needs_background": "light"
     },
     "output_type": "display_data"
    }
   ],
   "source": [
    "matrix_forest=confusion_matrix(y_test, yhat_forest)\n",
    "sns.heatmap(matrix_forest, annot=True, fmt=\"d\");\n",
    "plt.xlabel(\"Predicted Value\")\n",
    "plt.ylabel(\"True Value\")"
   ]
  },
  {
   "cell_type": "markdown",
   "id": "df1ceded",
   "metadata": {},
   "source": [
    "###  <span style='color:red'> Random Forest (Selected Feature) </span>"
   ]
  },
  {
   "cell_type": "markdown",
   "id": "bff1c6a9",
   "metadata": {},
   "source": [
    "#### Validation Accuracy"
   ]
  },
  {
   "cell_type": "code",
   "execution_count": 73,
   "id": "068e6791",
   "metadata": {},
   "outputs": [
    {
     "name": "stdout",
     "output_type": "stream",
     "text": [
      "max_depth= 1 , Accuracy = 78.176 (0.001019)\n",
      "max_depth= 2 , Accuracy = 85.725 (0.015939)\n",
      "max_depth= 3 , Accuracy = 90.059 (0.008705)\n",
      "max_depth= 4 , Accuracy = 91.314 (0.009532)\n",
      "max_depth= 5 , Accuracy = 92.078 (0.008873)\n",
      "max_depth= 6 , Accuracy = 92.843 (0.007592)\n",
      "max_depth= 7 , Accuracy = 93.490 (0.009525)\n",
      "max_depth= 8 , Accuracy = 94.059 (0.007067)\n",
      "max_depth= 9 , Accuracy = 94.196 (0.009379)\n",
      "max_depth= 10 , Accuracy = 94.373 (0.007407)\n",
      "max_depth= 11 , Accuracy = 94.157 (0.007305)\n",
      "max_depth= 12 , Accuracy = 94.373 (0.008723)\n",
      "max_depth= 13 , Accuracy = 94.333 (0.007948)\n",
      "max_depth= 14 , Accuracy = 94.255 (0.007407)\n",
      "max_depth= 15 , Accuracy = 94.333 (0.007531)\n",
      "max_depth= 16 , Accuracy = 94.294 (0.007692)\n",
      "max_depth= 17 , Accuracy = 94.216 (0.007281)\n",
      "max_depth= 18 , Accuracy = 94.235 (0.007347)\n",
      "max_depth= 19 , Accuracy = 94.235 (0.007347)\n",
      "max_depth= 20 , Accuracy = 94.235 (0.007347)\n",
      "max_depth= 21 , Accuracy = 94.235 (0.007347)\n",
      "max_depth= 22 , Accuracy = 94.235 (0.007347)\n",
      "max_depth= 23 , Accuracy = 94.235 (0.007347)\n",
      "max_depth= 24 , Accuracy = 94.235 (0.007347)\n",
      "max_depth= 25 , Accuracy = 94.235 (0.007347)\n",
      "max_depth= 26 , Accuracy = 94.235 (0.007347)\n",
      "max_depth= 27 , Accuracy = 94.235 (0.007347)\n",
      "max_depth= 28 , Accuracy = 94.235 (0.007347)\n",
      "max_depth= 29 , Accuracy = 94.235 (0.007347)\n",
      "max_depth= 30 , Accuracy = 94.235 (0.007347)\n",
      "max_depth= 31 , Accuracy = 94.235 (0.007347)\n",
      "max_depth= 32 , Accuracy = 94.235 (0.007347)\n",
      "max_depth= 33 , Accuracy = 94.235 (0.007347)\n",
      "max_depth= 34 , Accuracy = 94.235 (0.007347)\n",
      "max_depth= 35 , Accuracy = 94.235 (0.007347)\n",
      "max_depth= 36 , Accuracy = 94.235 (0.007347)\n",
      "max_depth= 37 , Accuracy = 94.235 (0.007347)\n",
      "max_depth= 38 , Accuracy = 94.235 (0.007347)\n",
      "max_depth= 39 , Accuracy = 94.235 (0.007347)\n",
      "max_depth= 40 , Accuracy = 94.235 (0.007347)\n",
      "max_depth= 41 , Accuracy = 94.235 (0.007347)\n",
      "max_depth= 42 , Accuracy = 94.235 (0.007347)\n",
      "max_depth= 43 , Accuracy = 94.235 (0.007347)\n",
      "max_depth= 44 , Accuracy = 94.235 (0.007347)\n",
      "max_depth= 45 , Accuracy = 94.235 (0.007347)\n",
      "max_depth= 46 , Accuracy = 94.235 (0.007347)\n",
      "max_depth= 47 , Accuracy = 94.235 (0.007347)\n",
      "max_depth= 48 , Accuracy = 94.235 (0.007347)\n",
      "max_depth= 49 , Accuracy = 94.235 (0.007347)\n",
      "max_depth= 50 , Accuracy = 94.235 (0.007347)\n"
     ]
    }
   ],
   "source": [
    "accuracy_forest_val=list()\n",
    "n_range = range(1, 51)\n",
    "for n in n_range :\n",
    "    forest = RandomForestClassifier(criterion='entropy',max_depth=n,random_state=1)\n",
    "    #evaluate the model\n",
    "    scores=evaluate_model_sel(forest)\n",
    "    accuracy_forest_val.append(np.mean(scores)*100)\n",
    "    #summarize the results\n",
    "    print('max_depth= %d , Accuracy = %.3f (%.6f)' % (n, np.mean(scores)*100,np.std(scores)))"
   ]
  },
  {
   "cell_type": "code",
   "execution_count": 74,
   "id": "8564d7b4",
   "metadata": {},
   "outputs": [
    {
     "data": {
      "image/png": "[encoded data removed]",
      "text/plain": [
       "<Figure size 1080x360 with 1 Axes>"
      ]
     },
     "metadata": {
      "needs_background": "light"
     },
     "output_type": "display_data"
    }
   ],
   "source": [
    "#plot grafik perbandingan akurasi\n",
    "plt.figure(figsize=(15,5)) \n",
    "plt.plot(n_range,accuracy_forest_val)\n",
    "plt.xticks(range(1,51))\n",
    "plt.title('Grafik Akurasi(Validasi) Random Forest(Selected Feature)')\n",
    "plt.xlabel('max_depth')\n",
    "plt.ylabel('Akurasi')\n",
    "plt.grid()"
   ]
  },
  {
   "cell_type": "markdown",
   "id": "87bcb3a0",
   "metadata": {},
   "source": [
    "Dipilih parameter max_depth=10"
   ]
  },
  {
   "cell_type": "markdown",
   "id": "0e3f0cd9",
   "metadata": {},
   "source": [
    "#### Test Score"
   ]
  },
  {
   "cell_type": "code",
   "execution_count": 75,
   "id": "beed5af8",
   "metadata": {},
   "outputs": [
    {
     "name": "stdout",
     "output_type": "stream",
     "text": [
      "Accuracy: 93.427 \n",
      "Precision: 91.149  \n",
      "Recall: 85.232  \n",
      "F1 Score: 87.760  \n"
     ]
    }
   ],
   "source": [
    "model_forest = RandomForestClassifier(criterion='entropy',max_depth=10,random_state=1)\n",
    "model_forest.fit(X_train_sel, y_train)\n",
    "# evaluate the model\n",
    "yhat_forest = model_forest.predict(X_test_sel)\n",
    "# evaluate predictions\n",
    "accuracy = accuracy_score(y_test, yhat_forest)\n",
    "precision = precision_score(y_test, yhat_forest,average='macro')\n",
    "recall = recall_score(y_test, yhat_forest,average='macro')\n",
    "f1 =  f1_score(y_test, yhat_forest,average='macro')\n",
    "print('Accuracy: %.3f ' % (accuracy*100))\n",
    "print('Precision: %.3f  ' % (precision*100))\n",
    "print('Recall: %.3f  ' % (recall*100))\n",
    "print('F1 Score: %.3f  ' % (f1*100))"
   ]
  },
  {
   "cell_type": "code",
   "execution_count": 76,
   "id": "a8f099f7",
   "metadata": {},
   "outputs": [
    {
     "data": {
      "text/plain": [
       "Text(33.0, 0.5, 'True Value')"
      ]
     },
     "execution_count": 76,
     "metadata": {},
     "output_type": "execute_result"
    },
    {
     "data": {
      "image/png": "[encoded data removed]",
      "text/plain": [
       "<Figure size 432x288 with 2 Axes>"
      ]
     },
     "metadata": {
      "needs_background": "light"
     },
     "output_type": "display_data"
    }
   ],
   "source": [
    "matrix_forest=confusion_matrix(y_test, yhat_forest)\n",
    "sns.heatmap(matrix_forest, annot=True, fmt=\"d\");\n",
    "plt.xlabel(\"Predicted Value\")\n",
    "plt.ylabel(\"True Value\")"
   ]
  },
  {
   "cell_type": "markdown",
   "id": "98b951ef",
   "metadata": {},
   "source": [
    "###  <span style='color:red'> Naive Bayes (All Feature) </span>"
   ]
  },
  {
   "cell_type": "code",
   "execution_count": 77,
   "id": "4e0cf077",
   "metadata": {},
   "outputs": [],
   "source": [
    "from sklearn.naive_bayes import GaussianNB"
   ]
  },
  {
   "cell_type": "markdown",
   "id": "4377fc20",
   "metadata": {},
   "source": [
    "#### Validation Accuracy"
   ]
  },
  {
   "cell_type": "code",
   "execution_count": 78,
   "id": "e3d24499",
   "metadata": {},
   "outputs": [
    {
     "name": "stdout",
     "output_type": "stream",
     "text": [
      "Accuracy = 81.431 (0.014487)\n"
     ]
    }
   ],
   "source": [
    "nb = GaussianNB()\n",
    "#evaluate the model\n",
    "scores=evaluate_model(nb)\n",
    "#summarize the results\n",
    "print('Accuracy = %.3f (%.6f)' % (np.mean(scores)*100,np.std(scores)))"
   ]
  },
  {
   "cell_type": "markdown",
   "id": "8733b2ea",
   "metadata": {},
   "source": [
    "#### Test Score"
   ]
  },
  {
   "cell_type": "code",
   "execution_count": 79,
   "id": "45debcc8",
   "metadata": {},
   "outputs": [
    {
     "name": "stdout",
     "output_type": "stream",
     "text": [
      "Accuracy: 84.038 \n",
      "Precision: 72.140  \n",
      "Recall: 75.464  \n",
      "F1 Score: 72.232  \n"
     ]
    }
   ],
   "source": [
    "model_nb = GaussianNB()\n",
    "model_nb.fit(X_train, y_train)\n",
    "# evaluate the model\n",
    "yhat_nb = model_nb.predict(X_test)\n",
    "# evaluate predictions\n",
    "accuracy = accuracy_score(y_test, yhat_nb)\n",
    "precision = precision_score(y_test, yhat_nb,average='macro')\n",
    "recall = recall_score(y_test, yhat_nb,average='macro')\n",
    "f1 =  f1_score(y_test, yhat_nb,average='macro')\n",
    "print('Accuracy: %.3f ' % (accuracy*100))\n",
    "print('Precision: %.3f  ' % (precision*100))\n",
    "print('Recall: %.3f  ' % (recall*100))\n",
    "print('F1 Score: %.3f  ' % (f1*100))"
   ]
  },
  {
   "cell_type": "code",
   "execution_count": 80,
   "id": "703ea374",
   "metadata": {},
   "outputs": [
    {
     "data": {
      "text/plain": [
       "Text(33.0, 0.5, 'True Value')"
      ]
     },
     "execution_count": 80,
     "metadata": {},
     "output_type": "execute_result"
    },
    {
     "data": {
      "image/png": "[encoded data removed]",
      "text/plain": [
       "<Figure size 432x288 with 2 Axes>"
      ]
     },
     "metadata": {
      "needs_background": "light"
     },
     "output_type": "display_data"
    }
   ],
   "source": [
    "matrix_nb=confusion_matrix(y_test, yhat_nb)\n",
    "sns.heatmap(matrix_nb, annot=True, fmt=\"d\");\n",
    "plt.xlabel(\"Predicted Value\")\n",
    "plt.ylabel(\"True Value\")"
   ]
  },
  {
   "cell_type": "markdown",
   "id": "70787a16",
   "metadata": {},
   "source": [
    "###  <span style='color:red'> Naive Bayes (Selected Feature) </span>"
   ]
  },
  {
   "cell_type": "markdown",
   "id": "136ab48b",
   "metadata": {},
   "source": [
    "#### Validation Accuracy"
   ]
  },
  {
   "cell_type": "code",
   "execution_count": 81,
   "id": "c5868a35",
   "metadata": {},
   "outputs": [
    {
     "name": "stdout",
     "output_type": "stream",
     "text": [
      "Accuracy = 81.529 (0.014425)\n"
     ]
    }
   ],
   "source": [
    "nb = GaussianNB()\n",
    "#evaluate the model\n",
    "scores=evaluate_model_sel(nb)\n",
    "#summarize the results\n",
    "print('Accuracy = %.3f (%.6f)' % (np.mean(scores)*100,np.std(scores)))"
   ]
  },
  {
   "cell_type": "markdown",
   "id": "9fc35bbf",
   "metadata": {},
   "source": [
    "#### Test Score"
   ]
  },
  {
   "cell_type": "code",
   "execution_count": 82,
   "id": "063e5361",
   "metadata": {},
   "outputs": [
    {
     "name": "stdout",
     "output_type": "stream",
     "text": [
      "Accuracy: 83.803 \n",
      "Precision: 71.329  \n",
      "Recall: 75.362  \n",
      "F1 Score: 71.843  \n"
     ]
    }
   ],
   "source": [
    "model_nb = GaussianNB()\n",
    "model_nb.fit(X_train_sel, y_train)\n",
    "# evaluate the model\n",
    "yhat_nb = model_nb.predict(X_test_sel)\n",
    "# evaluate predictions\n",
    "accuracy = accuracy_score(y_test, yhat_nb)\n",
    "precision = precision_score(y_test, yhat_nb,average='macro')\n",
    "recall = recall_score(y_test, yhat_nb,average='macro')\n",
    "f1 =  f1_score(y_test, yhat_nb,average='macro')\n",
    "print('Accuracy: %.3f ' % (accuracy*100))\n",
    "print('Precision: %.3f  ' % (precision*100))\n",
    "print('Recall: %.3f  ' % (recall*100))\n",
    "print('F1 Score: %.3f  ' % (f1*100))"
   ]
  },
  {
   "cell_type": "code",
   "execution_count": 83,
   "id": "e09bec70",
   "metadata": {},
   "outputs": [
    {
     "data": {
      "text/plain": [
       "Text(33.0, 0.5, 'True Value')"
      ]
     },
     "execution_count": 83,
     "metadata": {},
     "output_type": "execute_result"
    },
    {
     "data": {
      "image/png": "[encoded data removed]",
      "text/plain": [
       "<Figure size 432x288 with 2 Axes>"
      ]
     },
     "metadata": {
      "needs_background": "light"
     },
     "output_type": "display_data"
    }
   ],
   "source": [
    "matrix_nb=confusion_matrix(y_test, yhat_nb)\n",
    "sns.heatmap(matrix_nb, annot=True, fmt=\"d\");\n",
    "plt.xlabel(\"Predicted Value\")\n",
    "plt.ylabel(\"True Value\")"
   ]
  },
  {
   "cell_type": "markdown",
   "id": "27053a10",
   "metadata": {},
   "source": [
    "###  <span style='color:red'> Logistic Regression (All Feature) </span>"
   ]
  },
  {
   "cell_type": "markdown",
   "id": "d0f4ebb8",
   "metadata": {},
   "source": [
    "#### Validation Accuracy"
   ]
  },
  {
   "cell_type": "code",
   "execution_count": 84,
   "id": "e3368ce1",
   "metadata": {},
   "outputs": [
    {
     "name": "stdout",
     "output_type": "stream",
     "text": [
      "Solver= newton-cg , Accuracy = 89.353 (0.012892)\n",
      "Solver= liblinear , Accuracy = 88.902 (0.015603)\n",
      "Solver= sag , Accuracy = 86.824 (0.014505)\n",
      "Solver= saga , Accuracy = 86.333 (0.010673)\n"
     ]
    }
   ],
   "source": [
    "accuracy_logistic_val=list()\n",
    "solver = ['newton-cg','liblinear','sag','saga']\n",
    "for n in solver :\n",
    "    lr = LogisticRegression(solver=n)\n",
    "    #evaluate the model\n",
    "    scores=evaluate_model(lr)\n",
    "    accuracy_logistic_val.append(scores)\n",
    "    #summarize the results\n",
    "    print('Solver= %s , Accuracy = %.3f (%.6f)' % (n, np.mean(scores)*100,np.std(scores)))"
   ]
  },
  {
   "cell_type": "code",
   "execution_count": 85,
   "id": "907abdf8",
   "metadata": {},
   "outputs": [
    {
     "data": {
      "image/png": "[encoded data removed]",
      "text/plain": [
       "<Figure size 432x288 with 1 Axes>"
      ]
     },
     "metadata": {
      "needs_background": "light"
     },
     "output_type": "display_data"
    }
   ],
   "source": [
    "# plot model performance for comparison\n",
    "pyplot.boxplot(accuracy_logistic_val, labels=solver, showmeans=True)\n",
    "pyplot.show()"
   ]
  },
  {
   "cell_type": "markdown",
   "id": "6abaf1df",
   "metadata": {},
   "source": [
    "#### Test Score"
   ]
  },
  {
   "cell_type": "code",
   "execution_count": 86,
   "id": "877e4fb5",
   "metadata": {},
   "outputs": [
    {
     "name": "stdout",
     "output_type": "stream",
     "text": [
      "Accuracy: 88.967 \n",
      "Precision: 79.532  \n",
      "Recall: 78.593  \n",
      "F1 Score: 79.032  \n"
     ]
    }
   ],
   "source": [
    "model_lr = LogisticRegression(solver='newton-cg')\n",
    "model_lr.fit(X_train, y_train)\n",
    "# evaluate the model\n",
    "yhat_lr = model_lr.predict(X_test)\n",
    "# evaluate predictions\n",
    "accuracy = accuracy_score(y_test, yhat_lr)\n",
    "precision = precision_score(y_test, yhat_lr,average='macro')\n",
    "recall = recall_score(y_test, yhat_lr,average='macro')\n",
    "f1 =  f1_score(y_test, yhat_lr,average='macro')\n",
    "print('Accuracy: %.3f ' % (accuracy*100))\n",
    "print('Precision: %.3f  ' % (precision*100))\n",
    "print('Recall: %.3f  ' % (recall*100))\n",
    "print('F1 Score: %.3f  ' % (f1*100))"
   ]
  },
  {
   "cell_type": "code",
   "execution_count": 87,
   "id": "34b47c10",
   "metadata": {},
   "outputs": [
    {
     "data": {
      "text/plain": [
       "Text(33.0, 0.5, 'True Value')"
      ]
     },
     "execution_count": 87,
     "metadata": {},
     "output_type": "execute_result"
    },
    {
     "data": {
      "image/png": "[encoded data removed]",
      "text/plain": [
       "<Figure size 432x288 with 2 Axes>"
      ]
     },
     "metadata": {
      "needs_background": "light"
     },
     "output_type": "display_data"
    }
   ],
   "source": [
    "matrix_lr=confusion_matrix(y_test, yhat_lr)\n",
    "sns.heatmap(matrix_lr, annot=True, fmt=\"d\");\n",
    "plt.xlabel(\"Predicted Value\")\n",
    "plt.ylabel(\"True Value\")"
   ]
  },
  {
   "cell_type": "markdown",
   "id": "57219b63",
   "metadata": {},
   "source": [
    "###  <span style='color:red'> Logistic Regression (Selected Feature) </span>"
   ]
  },
  {
   "cell_type": "markdown",
   "id": "557306f4",
   "metadata": {},
   "source": [
    "#### Validation Accuracy"
   ]
  },
  {
   "cell_type": "code",
   "execution_count": 88,
   "id": "ad065872",
   "metadata": {},
   "outputs": [
    {
     "name": "stdout",
     "output_type": "stream",
     "text": [
      "Solver= newton-cg , Accuracy = 89.529 (0.014134)\n",
      "Solver= liblinear , Accuracy = 89.098 (0.016368)\n",
      "Solver= sag , Accuracy = 86.824 (0.014183)\n",
      "Solver= saga , Accuracy = 86.392 (0.010646)\n"
     ]
    }
   ],
   "source": [
    "accuracy_logistic_val=list()\n",
    "solver = ['newton-cg','liblinear','sag','saga']\n",
    "for n in solver :\n",
    "    lr = LogisticRegression(solver=n)\n",
    "    #evaluate the model\n",
    "    scores=evaluate_model_sel(lr)\n",
    "    accuracy_logistic_val.append(scores)\n",
    "    #summarize the results\n",
    "    print('Solver= %s , Accuracy = %.3f (%.6f)' % (n, np.mean(scores)*100,np.std(scores)))"
   ]
  },
  {
   "cell_type": "code",
   "execution_count": 89,
   "id": "5d6c694f",
   "metadata": {},
   "outputs": [
    {
     "data": {
      "image/png": "[encoded data removed]",
      "text/plain": [
       "<Figure size 432x288 with 1 Axes>"
      ]
     },
     "metadata": {
      "needs_background": "light"
     },
     "output_type": "display_data"
    }
   ],
   "source": [
    "# plot model performance for comparison\n",
    "pyplot.boxplot(accuracy_logistic_val, labels=solver, showmeans=True)\n",
    "pyplot.show()"
   ]
  },
  {
   "cell_type": "markdown",
   "id": "0d04972f",
   "metadata": {},
   "source": [
    "#### Test Score"
   ]
  },
  {
   "cell_type": "code",
   "execution_count": 90,
   "id": "1eeb8824",
   "metadata": {},
   "outputs": [
    {
     "name": "stdout",
     "output_type": "stream",
     "text": [
      "Accuracy: 89.202 \n",
      "Precision: 79.861  \n",
      "Recall: 78.695  \n",
      "F1 Score: 79.251  \n"
     ]
    }
   ],
   "source": [
    "model_lr = LogisticRegression(solver='newton-cg')\n",
    "model_lr.fit(X_train_sel, y_train)\n",
    "# evaluate the model\n",
    "yhat_lr = model_lr.predict(X_test_sel)\n",
    "# evaluate predictions\n",
    "accuracy = accuracy_score(y_test, yhat_lr)\n",
    "precision = precision_score(y_test, yhat_lr,average='macro')\n",
    "recall = recall_score(y_test, yhat_lr,average='macro')\n",
    "f1 =  f1_score(y_test, yhat_lr,average='macro')\n",
    "print('Accuracy: %.3f ' % (accuracy*100))\n",
    "print('Precision: %.3f  ' % (precision*100))\n",
    "print('Recall: %.3f  ' % (recall*100))\n",
    "print('F1 Score: %.3f  ' % (f1*100))"
   ]
  },
  {
   "cell_type": "code",
   "execution_count": 91,
   "id": "db9d4fe6",
   "metadata": {},
   "outputs": [
    {
     "data": {
      "text/plain": [
       "Text(33.0, 0.5, 'True Value')"
      ]
     },
     "execution_count": 91,
     "metadata": {},
     "output_type": "execute_result"
    },
    {
     "data": {
      "image/png": "[encoded data removed]",
      "text/plain": [
       "<Figure size 432x288 with 2 Axes>"
      ]
     },
     "metadata": {
      "needs_background": "light"
     },
     "output_type": "display_data"
    }
   ],
   "source": [
    "matrix_lr=confusion_matrix(y_test, yhat_lr)\n",
    "sns.heatmap(matrix_lr, annot=True, fmt=\"d\");\n",
    "plt.xlabel(\"Predicted Value\")\n",
    "plt.ylabel(\"True Value\")"
   ]
  },
  {
   "cell_type": "markdown",
   "id": "1deca941",
   "metadata": {},
   "source": [
    "###  <span style='color:red'> Support Vector Machine(All Feature) </span>"
   ]
  },
  {
   "cell_type": "markdown",
   "id": "368084a0",
   "metadata": {},
   "source": [
    "#### Validation Accuracy"
   ]
  },
  {
   "cell_type": "code",
   "execution_count": 92,
   "id": "6db32925",
   "metadata": {},
   "outputs": [],
   "source": [
    "from sklearn.svm import SVC"
   ]
  },
  {
   "cell_type": "code",
   "execution_count": 93,
   "id": "0054ab9d",
   "metadata": {},
   "outputs": [
    {
     "name": "stdout",
     "output_type": "stream",
     "text": [
      "Kernel= linear , Accuracy = 89.804 (0.012719)\n",
      "Kernel= poly , Accuracy = 78.471 (0.003658)\n",
      "Kernel= rbf , Accuracy = 84.176 (0.013758)\n",
      "Kernel= sigmoid , Accuracy = 81.392 (0.021788)\n"
     ]
    }
   ],
   "source": [
    "accuracy_svm_val=list()\n",
    "kernel = ['linear','poly','rbf','sigmoid']\n",
    "for n in kernel:\n",
    "    svm = SVC(kernel=n, gamma='scale', probability=True, random_state=1)\n",
    "    #evaluate the model\n",
    "    scores=evaluate_model(svm)\n",
    "    accuracy_svm_val.append(scores)\n",
    "    #summarize the results\n",
    "    print('Kernel= %s , Accuracy = %.3f (%.6f)' % (n, np.mean(scores)*100,np.std(scores)))"
   ]
  },
  {
   "cell_type": "code",
   "execution_count": 94,
   "id": "983a2f0e",
   "metadata": {},
   "outputs": [
    {
     "data": {
      "image/png": "[encoded data removed]",
      "text/plain": [
       "<Figure size 432x288 with 1 Axes>"
      ]
     },
     "metadata": {
      "needs_background": "light"
     },
     "output_type": "display_data"
    }
   ],
   "source": [
    "# plot model performance for comparison\n",
    "pyplot.boxplot(accuracy_svm_val, labels=kernel, showmeans=True)\n",
    "pyplot.show()"
   ]
  },
  {
   "cell_type": "markdown",
   "id": "b8f3abd6",
   "metadata": {},
   "source": [
    "#### Test Score"
   ]
  },
  {
   "cell_type": "code",
   "execution_count": 95,
   "id": "6a349445",
   "metadata": {},
   "outputs": [
    {
     "name": "stdout",
     "output_type": "stream",
     "text": [
      "Accuracy: 89.437 \n",
      "Precision: 80.102  \n",
      "Recall: 80.349  \n",
      "F1 Score: 80.141  \n"
     ]
    }
   ],
   "source": [
    "model_svm = SVC(kernel='linear', gamma='scale', probability=True, random_state=1)\n",
    "model_svm.fit(X_train, y_train)\n",
    "# evaluate the model\n",
    "yhat_svm = model_svm.predict(X_test)\n",
    "# evaluate predictions\n",
    "accuracy = accuracy_score(y_test, yhat_svm)\n",
    "precision = precision_score(y_test, yhat_svm,average='macro')\n",
    "recall = recall_score(y_test, yhat_svm,average='macro')\n",
    "f1 =  f1_score(y_test, yhat_svm,average='macro')\n",
    "print('Accuracy: %.3f ' % (accuracy*100))\n",
    "print('Precision: %.3f  ' % (precision*100))\n",
    "print('Recall: %.3f  ' % (recall*100))\n",
    "print('F1 Score: %.3f  ' % (f1*100))"
   ]
  },
  {
   "cell_type": "code",
   "execution_count": 96,
   "id": "0a7a6743",
   "metadata": {},
   "outputs": [
    {
     "data": {
      "text/plain": [
       "Text(33.0, 0.5, 'True Value')"
      ]
     },
     "execution_count": 96,
     "metadata": {},
     "output_type": "execute_result"
    },
    {
     "data": {
      "image/png": "[encoded data removed]",
      "text/plain": [
       "<Figure size 432x288 with 2 Axes>"
      ]
     },
     "metadata": {
      "needs_background": "light"
     },
     "output_type": "display_data"
    }
   ],
   "source": [
    "matrix_svm=confusion_matrix(y_test, yhat_svm)\n",
    "sns.heatmap(matrix_svm, annot=True, fmt=\"d\");\n",
    "plt.xlabel(\"Predicted Value\")\n",
    "plt.ylabel(\"True Value\")"
   ]
  },
  {
   "cell_type": "markdown",
   "id": "85eaa534",
   "metadata": {},
   "source": [
    "###  <span style='color:red'> Support Vector Machine(Selected Feature) </span>"
   ]
  },
  {
   "cell_type": "markdown",
   "id": "ee15cc13",
   "metadata": {},
   "source": [
    "#### Validation Accuracy"
   ]
  },
  {
   "cell_type": "code",
   "execution_count": 97,
   "id": "0e9323b9",
   "metadata": {},
   "outputs": [
    {
     "name": "stdout",
     "output_type": "stream",
     "text": [
      "Kernel= linear , Accuracy = 89.863 (0.014487)\n",
      "Kernel= poly , Accuracy = 78.529 (0.003610)\n",
      "Kernel= rbf , Accuracy = 84.216 (0.012904)\n",
      "Kernel= sigmoid , Accuracy = 81.588 (0.021674)\n"
     ]
    }
   ],
   "source": [
    "accuracy_svm_val=list()\n",
    "kernel = ['linear','poly','rbf','sigmoid']\n",
    "for n in kernel:\n",
    "    svm = SVC(kernel=n, gamma='scale', probability=True, random_state=1)\n",
    "    #evaluate the model\n",
    "    scores=evaluate_model_sel(svm)\n",
    "    accuracy_svm_val.append(scores)\n",
    "    #summarize the results\n",
    "    print('Kernel= %s , Accuracy = %.3f (%.6f)' % (n, np.mean(scores)*100,np.std(scores)))"
   ]
  },
  {
   "cell_type": "code",
   "execution_count": 98,
   "id": "336c8b35",
   "metadata": {},
   "outputs": [
    {
     "data": {
      "image/png": "[encoded data removed]",
      "text/plain": [
       "<Figure size 432x288 with 1 Axes>"
      ]
     },
     "metadata": {
      "needs_background": "light"
     },
     "output_type": "display_data"
    }
   ],
   "source": [
    "# plot model performance for comparison\n",
    "pyplot.boxplot(accuracy_svm_val, labels=kernel, showmeans=True)\n",
    "pyplot.show()"
   ]
  },
  {
   "cell_type": "markdown",
   "id": "3f049b8e",
   "metadata": {},
   "source": [
    "#### Test Score"
   ]
  },
  {
   "cell_type": "code",
   "execution_count": 99,
   "id": "54df26c7",
   "metadata": {},
   "outputs": [
    {
     "name": "stdout",
     "output_type": "stream",
     "text": [
      "Accuracy: 88.732 \n",
      "Precision: 79.042 \n",
      "Recall: 78.327 \n",
      "F1 Score: 78.584 \n"
     ]
    }
   ],
   "source": [
    "model_svm = SVC(kernel='linear', gamma='scale', probability=True, random_state=1)\n",
    "model_svm.fit(X_train_sel, y_train)\n",
    "# evaluate the model\n",
    "yhat_svm = model_svm.predict(X_test_sel)\n",
    "# evaluate predictions\n",
    "accuracy = accuracy_score(y_test, yhat_svm)\n",
    "precision = precision_score(y_test, yhat_svm,average='macro')\n",
    "recall = recall_score(y_test, yhat_svm,average='macro')\n",
    "f1 =  f1_score(y_test, yhat_svm,average='macro')\n",
    "print('Accuracy: %.3f ' % (accuracy*100))\n",
    "print('Precision: %.3f ' % (precision*100))\n",
    "print('Recall: %.3f ' % (recall*100))\n",
    "print('F1 Score: %.3f ' % (f1*100))"
   ]
  },
  {
   "cell_type": "code",
   "execution_count": 106,
   "id": "64fd3839",
   "metadata": {},
   "outputs": [
    {
     "data": {
      "text/plain": [
       "Text(33.0, 0.5, 'True Value')"
      ]
     },
     "execution_count": 106,
     "metadata": {},
     "output_type": "execute_result"
    },
    {
     "data": {
      "image/png": "[encoded data removed]",
      "text/plain": [
       "<Figure size 432x288 with 2 Axes>"
      ]
     },
     "metadata": {
      "needs_background": "light"
     },
     "output_type": "display_data"
    }
   ],
   "source": [
    "matrix_svm=confusion_matrix(y_test, yhat_svm)\n",
    "sns.heatmap(matrix_svm, annot=True, fmt=\"d\");\n",
    "plt.xlabel(\"Predicted Value\")\n",
    "plt.ylabel(\"True Value\")"
   ]
  },
  {
   "cell_type": "code",
   "execution_count": null,
   "id": "aa84c4b6",
   "metadata": {},
   "outputs": [],
   "source": []
  }
 ],
 "metadata": {
  "kernelspec": {
   "display_name": "Python 3",
   "language": "python",
   "name": "python3"
  },
  "language_info": {
   "codemirror_mode": {
    "name": "ipython",
    "version": 3
   },
   "file_extension": ".py",
   "mimetype": "text/x-python",
   "name": "python",
   "nbconvert_exporter": "python",
   "pygments_lexer": "ipython3",
   "version": "3.8.10"
  }
 },
 "nbformat": 4,
 "nbformat_minor": 5
}
